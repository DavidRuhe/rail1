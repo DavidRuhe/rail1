{
 "cells": [
  {
   "cell_type": "code",
   "execution_count": 1,
   "metadata": {},
   "outputs": [],
   "source": [
    "import pctools"
   ]
  },
  {
   "cell_type": "code",
   "execution_count": 2,
   "metadata": {},
   "outputs": [],
   "source": [
    "import numpy as np"
   ]
  },
  {
   "cell_type": "code",
   "execution_count": 3,
   "metadata": {},
   "outputs": [],
   "source": [
    "x = np.random.randn(1024, 2)"
   ]
  },
  {
   "cell_type": "code",
   "execution_count": 4,
   "metadata": {},
   "outputs": [
    {
     "data": {
      "text/plain": [
       "array([[-1.5982684 ,  2.5477889 ],\n",
       "       [ 2.1299963 ,  2.5813036 ],\n",
       "       [-2.891135  , -0.51608753],\n",
       "       [-0.6339795 , -3.3712444 ],\n",
       "       [ 2.0517716 , -2.4809713 ],\n",
       "       [ 2.8074589 , -0.236943  ],\n",
       "       [ 0.27343825,  1.8077646 ],\n",
       "       [-1.2089748 ,  0.56267256],\n",
       "       [-1.2045566 , -1.2848697 ],\n",
       "       [ 1.7840736 ,  1.0033473 ],\n",
       "       [ 0.40598717, -2.2010036 ],\n",
       "       [-2.6210783 ,  1.159667  ],\n",
       "       [ 3.1583004 ,  1.3262962 ],\n",
       "       [ 1.5985289 , -1.0157757 ],\n",
       "       [ 0.66620225,  0.7200997 ],\n",
       "       [-0.8361543 ,  1.719494  ],\n",
       "       [-0.9965142 , -2.3297632 ],\n",
       "       [-1.8407149 , -0.40317306],\n",
       "       [-0.6762383 , -0.34010962],\n",
       "       [ 1.4612422 ,  0.01367446],\n",
       "       [-0.10927062, -1.3045326 ],\n",
       "       [ 1.2862371 ,  1.8429394 ],\n",
       "       [-0.6763376 ,  2.8077798 ],\n",
       "       [-0.2655435 ,  0.95565   ],\n",
       "       [ 0.27910545,  2.7076128 ],\n",
       "       [ 0.83258   , -1.4538538 ],\n",
       "       [-1.8641857 , -1.7168802 ],\n",
       "       [-0.12285266,  0.21015184],\n",
       "       [-2.5397637 ,  0.15339145],\n",
       "       [ 2.3433614 , -1.0584592 ],\n",
       "       [-1.5035132 ,  1.4069998 ],\n",
       "       [ 2.1570113 ,  0.23091419]], dtype=float32)"
      ]
     },
     "execution_count": 4,
     "metadata": {},
     "output_type": "execute_result"
    }
   ],
   "source": [
    "pctools.fps_sampling(x, 32)"
   ]
  },
  {
   "cell_type": "code",
   "execution_count": null,
   "metadata": {},
   "outputs": [],
   "source": []
  }
 ],
 "metadata": {
  "kernelspec": {
   "display_name": "base",
   "language": "python",
   "name": "python3"
  },
  "language_info": {
   "codemirror_mode": {
    "name": "ipython",
    "version": 3
   },
   "file_extension": ".py",
   "mimetype": "text/x-python",
   "name": "python",
   "nbconvert_exporter": "python",
   "pygments_lexer": "ipython3",
   "version": "3.11.5"
  }
 },
 "nbformat": 4,
 "nbformat_minor": 2
}
