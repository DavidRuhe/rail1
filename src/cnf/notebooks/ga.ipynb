{
 "cells": [
  {
   "cell_type": "code",
   "execution_count": 3,
   "metadata": {},
   "outputs": [
    {
     "name": "stdout",
     "output_type": "stream",
     "text": [
      "/home/druhe/rail1/src/cnf\n"
     ]
    },
    {
     "name": "stderr",
     "output_type": "stream",
     "text": [
      "/home/druhe/rail1/src/cnf/.venv/lib/python3.10/site-packages/IPython/core/magics/osm.py:417: UserWarning: This is now an optional IPython functionality, setting dhist requires you to install the `pickleshare` library.\n",
      "  self.shell.db['dhist'] = compress_dhist(dhist)[-100:]\n"
     ]
    }
   ],
   "source": [
    "%cd /home/druhe/rail1/src/cnf/\n",
    "import os\n",
    "os.environ['DATAROOT'] = '/home/druhe/datasets/'"
   ]
  },
  {
   "cell_type": "code",
   "execution_count": 24,
   "metadata": {},
   "outputs": [],
   "source": [
    "from algebra.cliffordalgebra import CliffordAlgebra\n",
    "import torch"
   ]
  },
  {
   "cell_type": "code",
   "execution_count": 25,
   "metadata": {},
   "outputs": [],
   "source": [
    "ca = CliffordAlgebra((1, 1, 1))"
   ]
  },
  {
   "cell_type": "code",
   "execution_count": 26,
   "metadata": {},
   "outputs": [],
   "source": [
    "V = ca.random_vector(3)\n",
    "\n",
    "V_rev = torch.flip(V, [0])"
   ]
  },
  {
   "cell_type": "code",
   "execution_count": 28,
   "metadata": {},
   "outputs": [
    {
     "name": "stdout",
     "output_type": "stream",
     "text": [
      "tensor([[ 0.0000, -0.6764, -0.1591, -1.8175,  0.0000,  0.0000,  0.0000,  0.0000],\n",
      "        [ 0.0000, -1.6665,  0.9410,  0.4360,  0.0000,  0.0000,  0.0000,  0.0000],\n",
      "        [ 0.0000,  0.6251, -0.2713,  1.0560,  0.0000,  0.0000,  0.0000,  0.0000]]) tensor([[ 0.0000,  0.6251, -0.2713,  1.0560,  0.0000,  0.0000,  0.0000,  0.0000],\n",
      "        [ 0.0000, -1.6665,  0.9410,  0.4360,  0.0000,  0.0000,  0.0000,  0.0000],\n",
      "        [ 0.0000, -0.6764, -0.1591, -1.8175,  0.0000,  0.0000,  0.0000,  0.0000]])\n"
     ]
    }
   ],
   "source": [
    "print(V, V_rev)"
   ]
  },
  {
   "cell_type": "code",
   "execution_count": 42,
   "metadata": {},
   "outputs": [],
   "source": [
    "basis = [V[0]]\n",
    "for i in range(1, 3):\n",
    "    wedge = ca.get_grade(ca.reduce_geometric_product(V[:i]), i)\n",
    "    wedge = ca.embed_grade(wedge, i)\n",
    "\n",
    "    wedge_wedge = ca.geometric_product(wedge, V[i])\n",
    "    \n",
    "    wedge_inv = ca.inverse(wedge)\n",
    "\n",
    "    basis.append(ca.geometric_product(wedge_wedge, wedge_inv))"
   ]
  },
  {
   "cell_type": "code",
   "execution_count": 43,
   "metadata": {},
   "outputs": [],
   "source": [
    "basis = torch.stack(basis)\n",
    "basis = ca.get_grade(basis, 1)"
   ]
  },
  {
   "cell_type": "code",
   "execution_count": 47,
   "metadata": {},
   "outputs": [
    {
     "data": {
      "text/plain": [
       "tensor([[ 3.7862,  0.1851,  2.2989],\n",
       "        [ 0.1851,  3.8527, -0.6117],\n",
       "        [ 2.2989, -0.6117,  1.5794]])"
      ]
     },
     "execution_count": 47,
     "metadata": {},
     "output_type": "execute_result"
    }
   ],
   "source": [
    "# Is basis orthogonal?\n",
    "basis @ basis.T"
   ]
  },
  {
   "cell_type": "code",
   "execution_count": 48,
   "metadata": {},
   "outputs": [],
   "source": [
    "v = torch.randn(3, 3)"
   ]
  },
  {
   "cell_type": "code",
   "execution_count": 51,
   "metadata": {},
   "outputs": [],
   "source": [
    "u = v.clone()"
   ]
  },
  {
   "cell_type": "code",
   "execution_count": 52,
   "metadata": {},
   "outputs": [],
   "source": [
    "u[1] = v[1] - torch.dot(u[0], v[1]) / torch.dot(u[0], u[0]) * u[0]"
   ]
  },
  {
   "cell_type": "code",
   "execution_count": 53,
   "metadata": {},
   "outputs": [],
   "source": [
    "u[2] = v[2] "
   ]
  },
  {
   "cell_type": "code",
   "execution_count": 98,
   "metadata": {},
   "outputs": [],
   "source": [
    "def gram_schmidt(v):\n",
    "    u = v.clone()\n",
    "    for i in range(1, len(u)):\n",
    "        z = torch.einsum('ij, j->i', u[:i], v[i]) / torch.einsum('ij, ij->i', u[:i], u[:i]) \n",
    "        u[i] = v[i] - torch.einsum('i, ij->j', z, u[:i])\n",
    "    u /= u.norm(dim=1, keepdim=True)\n",
    "    return u"
   ]
  },
  {
   "cell_type": "code",
   "execution_count": 113,
   "metadata": {},
   "outputs": [],
   "source": [
    "def gram_schmidt_b(v):\n",
    "    u = v.clone()\n",
    "    for i in range(1, len(u)):\n",
    "        z = torch.einsum('bij, bj->bi', u[:, :i], v[:, i]) / torch.einsum('bij, bij->bi', u[:, :i], u[:, :i]) \n",
    "        u[:, i] = v[:, i] - torch.einsum('bi, bij->bj', z, u[:, :i])\n",
    "    u /= u.norm(dim=2, keepdim=True)\n",
    "    return u"
   ]
  },
  {
   "cell_type": "code",
   "execution_count": 114,
   "metadata": {},
   "outputs": [],
   "source": [
    "e = gram_schmidt(v[None])"
   ]
  },
  {
   "cell_type": "code",
   "execution_count": 115,
   "metadata": {},
   "outputs": [
    {
     "data": {
      "text/plain": [
       "tensor([[ 1.0000, -0.8050,  0.6590],\n",
       "        [-0.8050,  1.0000, -0.5031],\n",
       "        [ 0.6590, -0.5031,  1.0000]])"
      ]
     },
     "execution_count": 115,
     "metadata": {},
     "output_type": "execute_result"
    }
   ],
   "source": [
    "e[0] @ e[0].T"
   ]
  },
  {
   "cell_type": "code",
   "execution_count": null,
   "metadata": {},
   "outputs": [],
   "source": []
  }
 ],
 "metadata": {
  "kernelspec": {
   "display_name": ".venv",
   "language": "python",
   "name": "python3"
  },
  "language_info": {
   "codemirror_mode": {
    "name": "ipython",
    "version": 3
   },
   "file_extension": ".py",
   "mimetype": "text/x-python",
   "name": "python",
   "nbconvert_exporter": "python",
   "pygments_lexer": "ipython3",
   "version": "3.10.13"
  }
 },
 "nbformat": 4,
 "nbformat_minor": 2
}
