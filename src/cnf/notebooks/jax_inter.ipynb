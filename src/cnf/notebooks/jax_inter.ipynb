{
 "cells": [
  {
   "cell_type": "code",
   "execution_count": 1,
   "metadata": {},
   "outputs": [
    {
     "name": "stderr",
     "output_type": "stream",
     "text": [
      "An NVIDIA GPU may be present on this machine, but a CUDA-enabled jaxlib is not installed. Falling back to cpu.\n"
     ]
    },
    {
     "name": "stdout",
     "output_type": "stream",
     "text": [
      "PyTorch output:\n",
      " tensor([[[[0.6928, 0.6761, 0.7940, 0.9091],\n",
      "          [0.7974, 0.6731, 0.7090, 0.5539],\n",
      "          [0.6608, 0.6316, 0.7225, 0.7137],\n",
      "          [0.8180, 0.7477, 0.7154, 0.6863]],\n",
      "\n",
      "         [[0.4126, 0.4962, 0.3670, 0.2200],\n",
      "          [0.3902, 0.5720, 0.5016, 0.4495],\n",
      "          [0.6357, 0.4255, 0.3580, 0.3559],\n",
      "          [0.4487, 0.1934, 0.2901, 0.4173]],\n",
      "\n",
      "         [[0.6130, 0.3389, 0.4732, 0.4540],\n",
      "          [0.5872, 0.4066, 0.6574, 0.4376],\n",
      "          [0.4930, 0.4427, 0.1858, 0.8283],\n",
      "          [0.8252, 0.1546, 0.2341, 0.3013]]]])\n",
      "JAX output:\n",
      " [[[[0.8020759  0.62820303 0.9284525  0.28567412]\n",
      "   [0.78631866 0.5464505  0.64400995 0.49808082]\n",
      "   [0.43834862 0.5277994  0.42378038 0.43630135]\n",
      "   [0.59703594 0.55864716 0.7057093  0.657401  ]]\n",
      "\n",
      "  [[0.424793   0.11666153 0.35884365 0.34929678]\n",
      "   [0.38629887 0.17555654 0.71630436 0.3791138 ]\n",
      "   [0.30152482 0.47732118 0.05740294 0.5406113 ]\n",
      "   [0.47750637 0.0530642  0.08097727 0.10591275]]\n",
      "\n",
      "  [[0.7333186  0.1623245  0.5286766  0.2984152 ]\n",
      "   [0.56128126 0.1710028  0.64319277 0.12077305]\n",
      "   [0.15224661 0.34203464 0.05090603 0.6312949 ]\n",
      "   [0.67057747 0.00490244 0.04456076 0.1253738 ]]]]\n"
     ]
    }
   ],
   "source": [
    "import torch\n",
    "import torch.nn.functional as F\n",
    "import jax\n",
    "import jax.numpy as jnp\n",
    "from jax.scipy.ndimage import map_coordinates\n",
    "\n",
    "# PyTorch example\n",
    "input_tensor = torch.rand(1, 3, 4, 4)  # shape: (N, C, H, W)\n",
    "grid = torch.rand(1, 4, 4, 2) * 2 - 1  # shape: (N, H_out, W_out, 2), grid coordinates in range [-1, 1]\n",
    "\n",
    "output_pytorch = F.grid_sample(input_tensor, grid, mode='bilinear', padding_mode='zeros', align_corners=True)\n",
    "\n",
    "# JAX equivalent\n",
    "input_tensor_jax = jnp.array(input_tensor.numpy())\n",
    "grid_jax = jnp.array(grid.numpy())\n",
    "\n",
    "# Rescale grid coordinates from [-1, 1] to [0, H] and [0, W]\n",
    "N, H_out, W_out, _ = grid_jax.shape\n",
    "_, C, H, W = input_tensor_jax.shape\n",
    "\n",
    "grid_jax = (grid_jax + 1) * jnp.array([H / 2, W / 2]) - 0.5\n",
    "\n",
    "# Prepare indices for map_coordinates\n",
    "indices = grid_jax.transpose(3, 0, 1, 2).reshape(2, -1)\n",
    "\n",
    "# Perform interpolation using map_coordinates\n",
    "output_jax = jnp.stack([\n",
    "    map_coordinates(input_tensor_jax[0, c], indices, order=1, mode='constant', cval=0).reshape(H_out, W_out)\n",
    "    for c in range(C)\n",
    "], axis=0).reshape(1, C, H_out, W_out)\n",
    "\n",
    "print(\"PyTorch output:\\n\", output_pytorch)\n",
    "print(\"JAX output:\\n\", output_jax)"
   ]
  },
  {
   "cell_type": "code",
   "execution_count": null,
   "metadata": {},
   "outputs": [],
   "source": []
  }
 ],
 "metadata": {
  "kernelspec": {
   "display_name": "py310",
   "language": "python",
   "name": "python3"
  },
  "language_info": {
   "codemirror_mode": {
    "name": "ipython",
    "version": 3
   },
   "file_extension": ".py",
   "mimetype": "text/x-python",
   "name": "python",
   "nbconvert_exporter": "python",
   "pygments_lexer": "ipython3",
   "version": "3.10.14"
  }
 },
 "nbformat": 4,
 "nbformat_minor": 2
}
