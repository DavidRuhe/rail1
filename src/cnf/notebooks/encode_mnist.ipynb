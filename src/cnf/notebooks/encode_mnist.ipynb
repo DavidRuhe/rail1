{
 "cells": [
  {
   "cell_type": "code",
   "execution_count": null,
   "metadata": {},
   "outputs": [
    {
     "name": "stdout",
     "output_type": "stream",
     "text": [
      "/home/druhe/rail1/src/cnf\n"
     ]
    },
    {
     "name": "stderr",
     "output_type": "stream",
     "text": [
      "/home/druhe/rail1/src/cnf/.venv/lib/python3.10/site-packages/IPython/core/magics/osm.py:417: UserWarning: using dhist requires you to install the `pickleshare` library.\n",
      "  self.shell.db['dhist'] = compress_dhist(dhist)[-100:]\n"
     ]
    }
   ],
   "source": [
    "%cd /home/druhe/rail1/src/cnf\n",
    "import os\n",
    "os.environ['DATAROOT'] = '/home/druhe/datasets'\n",
    "\n"
   ]
  },
  {
   "cell_type": "code",
   "execution_count": 60,
   "metadata": {},
   "outputs": [
    {
     "data": {
      "text/plain": [
       "<torch.autograd.grad_mode.set_grad_enabled at 0x7f0c3dcda3e0>"
      ]
     },
     "execution_count": 60,
     "metadata": {},
     "output_type": "execute_result"
    }
   ],
   "source": [
    "import wandb\n",
    "import rail1.run\n",
    "import rail1.checkpoint\n",
    "import tempfile\n",
    "import models\n",
    "import torch\n",
    "import torch.nn.functional as F\n",
    "\n",
    "torch.set_grad_enabled(False)\n",
    "\n",
    "# TODO: set seeds etc, just like training."
   ]
  },
  {
   "cell_type": "code",
   "execution_count": 61,
   "metadata": {},
   "outputs": [],
   "source": [
    "api = wandb.Api()\n",
    "path = 'druhe/cnf/9utazgqo'\n",
    "run = api.run(path)\n",
    "\n",
    "run_dir = os.path.join('runs', 'notebooks', run.id)\n",
    "\n",
    "os.makedirs(run_dir, exist_ok=True)"
   ]
  },
  {
   "cell_type": "code",
   "execution_count": 62,
   "metadata": {},
   "outputs": [],
   "source": [
    "\n",
    "artifact_dict = {}\n",
    "\n",
    "for a in run.logged_artifacts():\n",
    "\n",
    "    if a.type != \"checkpoint\":\n",
    "        continue\n",
    "\n",
    "    file = a.metadata['filename']\n",
    "    \n",
    "\n",
    "    metrics = file.rsplit('/')[-1]\n",
    "    metrics = metrics.split('-')\n",
    "\n",
    "    dictionary = {item.split('=')[0]: item.split('=')[1] for item in metrics}\n",
    "    dictionary['artifact'] = a\n",
    "\n",
    "    artifact_dict[a] = dictionary\n"
   ]
  },
  {
   "cell_type": "code",
   "execution_count": 63,
   "metadata": {},
   "outputs": [],
   "source": [
    "best_artifact = min(artifact_dict, key=lambda x: artifact_dict[x]['val_loss'])"
   ]
  },
  {
   "cell_type": "code",
   "execution_count": 64,
   "metadata": {},
   "outputs": [
    {
     "name": "stderr",
     "output_type": "stream",
     "text": [
      "\u001b[34m\u001b[1mwandb\u001b[0m:   1 of 1 files downloaded.  \n",
      "wandb: WARNING Source type is set to 'repo' but some required information is missing from the environment. A job will not be created from this run. See https://docs.wandb.ai/guides/launch/create-job\n"
     ]
    },
    {
     "data": {
      "text/plain": [
       "'runs/notebooks/9utazgqo/checkpoints'"
      ]
     },
     "execution_count": 64,
     "metadata": {},
     "output_type": "execute_result"
    }
   ],
   "source": [
    "best_artifact.download(root=os.path.join(run_dir, 'checkpoints'))"
   ]
  },
  {
   "cell_type": "code",
   "execution_count": 65,
   "metadata": {},
   "outputs": [],
   "source": [
    "config = run.config"
   ]
  },
  {
   "cell_type": "code",
   "execution_count": 66,
   "metadata": {},
   "outputs": [],
   "source": [
    "model = getattr(models, config[\"model\"].pop(\"name\"))(**config[\"model\"])\n",
    "\n",
    "\n"
   ]
  },
  {
   "cell_type": "code",
   "execution_count": 67,
   "metadata": {},
   "outputs": [
    {
     "name": "stdout",
     "output_type": "stream",
     "text": [
      "\n",
      "Successfully restored complete state from: runs/notebooks/9utazgqo/checkpoints/step=73728-epoch=0-val_loss=0.0026-val_s_it=0.0063.pt\n",
      "\n"
     ]
    },
    {
     "data": {
      "text/plain": [
       "{'global_step': 73728,\n",
       " 'last_global_step': 73728,\n",
       " 'should_raise': None,\n",
       " 'current_epoch': 0,\n",
       " 'device': device(type='cuda', index=0),\n",
       " 'train_metrics': defaultdict(list, {}),\n",
       " 'total_parameters': 1132944,\n",
       " 'batch_index': 157}"
      ]
     },
     "execution_count": 67,
     "metadata": {},
     "output_type": "execute_result"
    }
   ],
   "source": [
    "train_state = {}\n",
    "optimizer = None\n",
    "rail1.checkpoint.load_checkpoint(os.path.join(run_dir, 'checkpoints'), model, train_state=train_state, optimizer=optimizer)"
   ]
  },
  {
   "cell_type": "code",
   "execution_count": 68,
   "metadata": {},
   "outputs": [],
   "source": [
    "dataset_config = config[\"dataset\"]\n",
    "data = getattr(rail1.datasets, dataset_config.pop(\"name\"))(**dataset_config)\n"
   ]
  },
  {
   "cell_type": "code",
   "execution_count": 69,
   "metadata": {},
   "outputs": [],
   "source": [
    "images = torch.stack([data['train_dataset'][i][0] for i in range(len(data['train_dataset']))])"
   ]
  },
  {
   "cell_type": "code",
   "execution_count": 70,
   "metadata": {},
   "outputs": [],
   "source": [
    "images = images.view(len(images), -1)"
   ]
  },
  {
   "cell_type": "code",
   "execution_count": 71,
   "metadata": {},
   "outputs": [],
   "source": [
    "z = model.encoder(images)"
   ]
  },
  {
   "cell_type": "code",
   "execution_count": 73,
   "metadata": {},
   "outputs": [],
   "source": [
    "save_dir = os.path.join(run_dir, 'latent_space')\n",
    "os.makedirs(save_dir, exist_ok=True)\n",
    "torch.save(z, os.path.join(save_dir, 'train.pt'))\n",
    "\n"
   ]
  },
  {
   "cell_type": "code",
   "execution_count": 74,
   "metadata": {},
   "outputs": [],
   "source": [
    "images = torch.stack([data['test_dataset'][i][0] for i in range(len(data['test_dataset']))])\n",
    "images = images.view(len(images), -1)\n",
    "z = model.encoder(images)\n",
    "torch.save(z, os.path.join(save_dir, 'val.pt'))\n"
   ]
  }
 ],
 "metadata": {
  "kernelspec": {
   "display_name": ".venv",
   "language": "python",
   "name": "python3"
  },
  "language_info": {
   "codemirror_mode": {
    "name": "ipython",
    "version": 3
   },
   "file_extension": ".py",
   "mimetype": "text/x-python",
   "name": "python",
   "nbconvert_exporter": "python",
   "pygments_lexer": "ipython3",
   "version": "3.10.13"
  }
 },
 "nbformat": 4,
 "nbformat_minor": 2
}
