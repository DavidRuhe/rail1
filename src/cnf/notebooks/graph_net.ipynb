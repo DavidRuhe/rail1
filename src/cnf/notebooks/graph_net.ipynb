{
 "cells": [
  {
   "cell_type": "code",
   "execution_count": 2,
   "metadata": {},
   "outputs": [],
   "source": [
    "import torch\n",
    "torch.set_default_dtype(torch.float64)\n",
    "from torch import nn\n",
    "\n",
    "linear = nn.Linear(16, 16)\n"
   ]
  },
  {
   "cell_type": "code",
   "execution_count": 3,
   "metadata": {},
   "outputs": [],
   "source": [
    "batch_size = 128\n",
    "num_nodes = 16\n",
    "dim = 8\n",
    "graph_features = torch.randn(batch_size, num_nodes, dim)\n",
    "perm = torch.randperm(num_nodes)\n",
    "graph_features_permuted = graph_features[:, perm, :]"
   ]
  },
  {
   "cell_type": "code",
   "execution_count": 4,
   "metadata": {},
   "outputs": [],
   "source": [
    "graph_features_expanded = graph_features.unsqueeze(1).expand(-1, num_nodes, -1, -1)\n",
    "graph_features_permuted_expanded = graph_features_permuted.unsqueeze(1).expand(-1, num_nodes, -1, -1)"
   ]
  },
  {
   "cell_type": "code",
   "execution_count": 5,
   "metadata": {},
   "outputs": [],
   "source": [
    "I = torch.eye(num_nodes, dtype=bool).unsqueeze(-1).expand(-1, -1, dim)\n",
    "\n",
    "graph_features_masked = graph_features_expanded * ~I\n",
    "node_features = graph_features.unsqueeze(2).expand(-1, -1, num_nodes, -1)\n",
    "\n",
    "graph_features_permuted_masked = graph_features_permuted_expanded * ~I\n",
    "node_features_permuted = graph_features_permuted.unsqueeze(2).expand(-1, -1, num_nodes, -1)"
   ]
  },
  {
   "cell_type": "code",
   "execution_count": 6,
   "metadata": {},
   "outputs": [],
   "source": [
    "input = torch.cat([node_features, graph_features_masked], dim=-1)\n",
    "input_permuted = torch.cat([node_features_permuted, graph_features_permuted_masked], dim=-1)"
   ]
  },
  {
   "cell_type": "code",
   "execution_count": 7,
   "metadata": {},
   "outputs": [],
   "source": [
    "output = linear(input)\n",
    "output_permuted = linear(input_permuted)\n",
    "\n",
    "output = output.sum(dim=2)\n",
    "output_permuted = output_permuted.sum(dim=2)"
   ]
  },
  {
   "cell_type": "code",
   "execution_count": 8,
   "metadata": {},
   "outputs": [
    {
     "data": {
      "text/plain": [
       "tensor(1.0658e-14, grad_fn=<MaxBackward1>)"
      ]
     },
     "execution_count": 8,
     "metadata": {},
     "output_type": "execute_result"
    }
   ],
   "source": [
    "(output[:, perm, :] - output_permuted).abs().max()"
   ]
  },
  {
   "cell_type": "code",
   "execution_count": 9,
   "metadata": {},
   "outputs": [
    {
     "data": {
      "text/plain": [
       "torch.Size([128, 16, 16])"
      ]
     },
     "execution_count": 9,
     "metadata": {},
     "output_type": "execute_result"
    }
   ],
   "source": [
    "output_permuted.shape"
   ]
  },
  {
   "cell_type": "code",
   "execution_count": 10,
   "metadata": {},
   "outputs": [],
   "source": [
    "class Attention(nn.Module):\n",
    "    def __init__(\n",
    "        self,\n",
    "        dim: int,\n",
    "        num_heads: int,\n",
    "        q_norm=False,\n",
    "        kv_norm=False,\n",
    "        dropout: float = 0.0,\n",
    "        add_bias_kv: bool = False,\n",
    "        norm_layer=nn.LayerNorm,\n",
    "    ):\n",
    "        super().__init__()\n",
    "        self.q_norm = norm_layer(dim) if q_norm else nn.Identity()\n",
    "        self.kv_norm = norm_layer(dim) if kv_norm else nn.Identity()\n",
    "\n",
    "        self.attn = nn.MultiheadAttention(\n",
    "            dim, num_heads, dropout=dropout, add_bias_kv=add_bias_kv, batch_first=True\n",
    "        )\n",
    "\n",
    "    def forward(self, h, c=None):\n",
    "        if c is None:\n",
    "            c = h\n",
    "        else:\n",
    "            c = torch.cat((h, c), dim=1)\n",
    "\n",
    "        q = self.q_norm(h)\n",
    "        k = self.kv_norm(c)\n",
    "        v = self.kv_norm(c)\n",
    "\n",
    "        return self.attn(q, k, v)[0]"
   ]
  },
  {
   "cell_type": "code",
   "execution_count": 13,
   "metadata": {},
   "outputs": [
    {
     "data": {
      "text/plain": [
       "tensor(1.6653e-16, grad_fn=<MaxBackward1>)"
      ]
     },
     "execution_count": 13,
     "metadata": {},
     "output_type": "execute_result"
    }
   ],
   "source": [
    "attn = Attention(8, 4, q_norm=True, kv_norm=True)\n",
    "\n",
    "output = attn(graph_features)\n",
    "output_permuted = attn(graph_features_permuted)\n",
    "\n",
    "(output[:, perm, :] - output_permuted).abs().max()\n",
    "\n"
   ]
  },
  {
   "cell_type": "code",
   "execution_count": null,
   "metadata": {},
   "outputs": [],
   "source": []
  },
  {
   "cell_type": "code",
   "execution_count": null,
   "metadata": {},
   "outputs": [],
   "source": []
  }
 ],
 "metadata": {
  "kernelspec": {
   "display_name": ".venv",
   "language": "python",
   "name": "python3"
  },
  "language_info": {
   "codemirror_mode": {
    "name": "ipython",
    "version": 3
   },
   "file_extension": ".py",
   "mimetype": "text/x-python",
   "name": "python",
   "nbconvert_exporter": "python",
   "pygments_lexer": "ipython3",
   "version": "3.10.13"
  }
 },
 "nbformat": 4,
 "nbformat_minor": 2
}
