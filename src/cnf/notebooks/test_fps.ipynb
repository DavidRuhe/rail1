{
 "cells": [
  {
   "cell_type": "code",
   "execution_count": 159,
   "metadata": {},
   "outputs": [
    {
     "name": "stdout",
     "output_type": "stream",
     "text": [
      "/home/druhe/rail1/src/cnf\n",
      "The autoreload extension is already loaded. To reload it, use:\n",
      "  %reload_ext autoreload\n"
     ]
    },
    {
     "name": "stderr",
     "output_type": "stream",
     "text": [
      "/home/druhe/rail1/src/cnf/.venv/lib/python3.10/site-packages/IPython/core/magics/osm.py:417: UserWarning: This is now an optional IPython functionality, setting dhist requires you to install the `pickleshare` library.\n",
      "  self.shell.db['dhist'] = compress_dhist(dhist)[-100:]\n"
     ]
    }
   ],
   "source": [
    "%cd /home/druhe/rail1/src/cnf\n",
    "%load_ext autoreload\n",
    "%autoreload 2\n",
    "\n",
    "import os\n",
    "os.environ['DATAROOT'] = '/home/druhe/datasets'\n"
   ]
  },
  {
   "cell_type": "code",
   "execution_count": 160,
   "metadata": {},
   "outputs": [],
   "source": [
    "import torch\n",
    "from pointnet2_ops import pointnet2_utils\n"
   ]
  },
  {
   "cell_type": "code",
   "execution_count": 161,
   "metadata": {},
   "outputs": [],
   "source": [
    "xyz = torch.randn(1, 8, 3).cuda()\n",
    "xyz = xyz.repeat(2, 1, 1)"
   ]
  },
  {
   "cell_type": "code",
   "execution_count": 162,
   "metadata": {},
   "outputs": [],
   "source": [
    "x = pointnet2_utils.furthest_point_sample(xyz, 3)"
   ]
  },
  {
   "cell_type": "code",
   "execution_count": 163,
   "metadata": {},
   "outputs": [],
   "source": [
    "num_samples = 3"
   ]
  },
  {
   "cell_type": "code",
   "execution_count": 164,
   "metadata": {},
   "outputs": [],
   "source": [
    "import torch\n",
    "\n",
    "def drop_from_tensor(tensor, index):\n",
    "    B, N = tensor.shape[:2]\n",
    "    range_tensor = torch.arange(N, device=tensor.device).unsqueeze(0).repeat(B, 1)\n",
    "    mask = range_tensor != index.unsqueeze(1)\n",
    "    dropped = tensor[mask].reshape(B, N - 1, 3)\n",
    "\n",
    "    expanded_indices = index.unsqueeze(-1).unsqueeze(-1).expand(-1, -1, 3)\n",
    "    values = torch.gather(tensor, 1, expanded_indices).squeeze(1)\n",
    "\n",
    "    return dropped, values"
   ]
  },
  {
   "cell_type": "code",
   "execution_count": 178,
   "metadata": {},
   "outputs": [
    {
     "name": "stdout",
     "output_type": "stream",
     "text": [
      "tensor([[False,  True,  True,  True,  True,  True,  True,  True],\n",
      "        [False,  True,  True,  True,  True,  True,  True,  True]],\n",
      "       device='cuda:0')\n"
     ]
    }
   ],
   "source": [
    "ix = torch.zeros((len(xyz)), dtype=torch.int64, device=xyz.device)\n",
    "# ix = torch.arange((len(xyz)), dtype=torch.int64, device=xyz.device)\n",
    "indices = [ix]\n",
    "B, N = xyz.shape[:2]\n",
    "range_tensor = torch.arange(N, device=xyz.device).unsqueeze(0).repeat(B, 1)\n",
    "mask = range_tensor != ix.unsqueeze(1)\n",
    "\n",
    "print(mask)\n",
    "\n",
    "for i in range(num_samples-1):\n",
    "    points = torch.gather(xyz, 1, ix.unsqueeze(-1).unsqueeze(-1).expand(-1, -1, 3))\n",
    "    d = torch.cdist(points, xyz).squeeze(1)\n",
    "\n",
    "    d *= mask\n",
    "\n",
    "    ix = torch.argmax(d, dim=1)\n",
    "\n",
    "    indices.append(ix)\n",
    "    mask = mask & (range_tensor != ix.unsqueeze(1))\n",
    "    \n",
    "#     xyz = torch.cat([xyz[:, :idx, :], xyz[:, idx+1:, :]], dim=1)\n",
    "# point = xyz[:, start_idx: start_idx+1, :]\n",
    "# d = torch.cdist(point, xyz)\n",
    "# ix = torch.argmax(d, dim=2)\n",
    "# indices.append(ix)\n",
    "# point = torch.gather(xyz, 1, ix.unsqueeze(-1).expand(-1, -1, 3))\n",
    "# d = torch.cdist(point, xyz)\n",
    "# ix = torch.argmax(d, dim=2)\n",
    "# indices.append(ix.unsqueeze(-1))"
   ]
  },
  {
   "cell_type": "code",
   "execution_count": 166,
   "metadata": {},
   "outputs": [
    {
     "data": {
      "text/plain": [
       "[tensor([0, 0], device='cuda:0'),\n",
       " tensor([4, 4], device='cuda:0'),\n",
       " tensor([7, 7], device='cuda:0')]"
      ]
     },
     "execution_count": 166,
     "metadata": {},
     "output_type": "execute_result"
    }
   ],
   "source": [
    "indices"
   ]
  },
  {
   "cell_type": "markdown",
   "metadata": {},
   "source": []
  },
  {
   "cell_type": "code",
   "execution_count": 171,
   "metadata": {},
   "outputs": [],
   "source": [
    "x_i = torch.stack(indices, dim=1)"
   ]
  },
  {
   "cell_type": "code",
   "execution_count": 172,
   "metadata": {},
   "outputs": [
    {
     "data": {
      "text/plain": [
       "(torch.Size([2, 3]), torch.Size([2, 3]))"
      ]
     },
     "execution_count": 172,
     "metadata": {},
     "output_type": "execute_result"
    }
   ],
   "source": [
    "x_i.shape, x.shape"
   ]
  },
  {
   "cell_type": "code",
   "execution_count": 181,
   "metadata": {},
   "outputs": [
    {
     "name": "stdout",
     "output_type": "stream",
     "text": [
      "tensor([[0.0000, 1.5031, 5.0591]])\n",
      "tensor([[1.0000e+10, 1.0000e+10, 1.0000e+10]])\n",
      "\n",
      "\n",
      "tensor([[5.0591, 6.0484, 0.0000]])\n",
      "tensor([[0.0000, 1.5031, 5.0591]])\n",
      "\n",
      "\n",
      "tensor([[1.5031, 0.0000, 6.0484]])\n",
      "tensor([[0.0000, 1.5031, 0.0000]])\n",
      "\n",
      "\n"
     ]
    }
   ],
   "source": [
    "npoint = 3\n",
    "\n",
    "xyz = torch.randn(1, 3, 3)\n",
    "\n",
    "device = xyz.device\n",
    "B, N, C = xyz.shape\n",
    "centroids = torch.zeros(B, npoint, dtype=torch.long).to(device)\n",
    "distance = torch.ones(B, N).to(device) * 1e10\n",
    "batch_indices = torch.arange(B, dtype=torch.long).to(device)\n",
    "\n",
    "farthest = torch.zeros(B, dtype=torch.long).to(device)\n",
    "\n",
    "for i in range(npoint):\n",
    "    centroids[:, i] = farthest\n",
    "    centroid = xyz[batch_indices, farthest, :].view(B, 1, 3)\n",
    "    dist = torch.sum((xyz - centroid) ** 2, -1)\n",
    "    print(dist)\n",
    "    print(distance)\n",
    "    print('\\n')\n",
    "    mask = dist < distance\n",
    "    distance[mask] = dist[mask]\n",
    "    farthest = torch.max(distance, -1)[1]\n"
   ]
  },
  {
   "cell_type": "code",
   "execution_count": null,
   "metadata": {},
   "outputs": [],
   "source": []
  }
 ],
 "metadata": {
  "kernelspec": {
   "display_name": ".venv",
   "language": "python",
   "name": "python3"
  },
  "language_info": {
   "codemirror_mode": {
    "name": "ipython",
    "version": 3
   },
   "file_extension": ".py",
   "mimetype": "text/x-python",
   "name": "python",
   "nbconvert_exporter": "python",
   "pygments_lexer": "ipython3",
   "version": "3.10.13"
  }
 },
 "nbformat": 4,
 "nbformat_minor": 2
}
