{
 "cells": [
  {
   "cell_type": "code",
   "execution_count": 20,
   "metadata": {},
   "outputs": [],
   "source": [
    "import torch\n",
    "from torch import nn, optim\n",
    "import torch.nn.functional as F\n",
    "import matplotlib.pyplot as plt\n",
    "\n",
    "from torchvision import datasets, transforms\n",
    "\n",
    "from algebra.cliffordalgebra import CliffordAlgebra\n",
    "from models.modules.gp import SteerableGeometricProductLayer\n",
    "from models.modules.linear import MVLinear\n",
    "from models.modules.mvlayernorm import MVLayerNorm\n",
    "from models.modules.mvsilu import MVSiLU\n",
    "\n",
    "mnist = datasets.MNIST('~/datasets/', transform=transforms.ToTensor(), download=True)\n",
    "image = mnist[0][0]"
   ]
  },
  {
   "cell_type": "code",
   "execution_count": 21,
   "metadata": {},
   "outputs": [],
   "source": [
    "ca = CliffordAlgebra((1., 1.))"
   ]
  },
  {
   "cell_type": "code",
   "execution_count": 22,
   "metadata": {},
   "outputs": [
    {
     "data": {
      "text/plain": [
       "<matplotlib.image.AxesImage at 0x7f6be5b1cd00>"
      ]
     },
     "execution_count": 22,
     "metadata": {},
     "output_type": "execute_result"
    },
    {
     "data": {
      "image/png": "[encoded data removed]",
      "text/plain": [
       "<Figure size 640x480 with 1 Axes>"
      ]
     },
     "metadata": {},
     "output_type": "display_data"
    }
   ],
   "source": [
    "plt.imshow(image[0], cmap='gray')"
   ]
  },
  {
   "cell_type": "code",
   "execution_count": 23,
   "metadata": {},
   "outputs": [],
   "source": [
    "image_tensor = image"
   ]
  },
  {
   "cell_type": "code",
   "execution_count": 24,
   "metadata": {},
   "outputs": [
    {
     "data": {
      "text/plain": [
       "tensor([[[[0.]]]])"
      ]
     },
     "execution_count": 24,
     "metadata": {},
     "output_type": "execute_result"
    }
   ],
   "source": [
    "F.grid_sample(image_tensor.unsqueeze(0), torch.tensor([[[[1., 1.]]]], dtype=torch.float32), align_corners=True, mode='nearest')"
   ]
  },
  {
   "cell_type": "code",
   "execution_count": 25,
   "metadata": {},
   "outputs": [],
   "source": [
    "class Bilinear(nn.Module):\n",
    "    def __init__(self, dim = 1024):\n",
    "        super().__init__()\n",
    "        self.linear_1 = nn.Linear(dim, dim)\n",
    "        self.linear_2 = nn.Linear(dim, dim)\n",
    "        self.a = nn.Parameter(torch.zeros(dim))\n",
    "        # self.linear_3 = nn.Linear(dim, dim)\n",
    "\n",
    "\n",
    "    def forward(self, x):\n",
    "        b = self.linear_2(x) / (torch.sigmoid(self.a[None])*(x.abs() - 1) + 1)\n",
    "        return self.linear_1(x) * b + x\n"
   ]
  },
  {
   "cell_type": "code",
   "execution_count": 26,
   "metadata": {},
   "outputs": [],
   "source": [
    "class CEMLP(nn.Module):\n",
    "    def __init__(\n",
    "        self,\n",
    "        algebra,\n",
    "        in_features,\n",
    "        hidden_features,\n",
    "        out_features,\n",
    "        n_layers=2,\n",
    "        normalization_init=0,\n",
    "    ):\n",
    "        super().__init__()\n",
    "        self.algebra = algebra\n",
    "        self.in_features = in_features\n",
    "        self.hidden_features = hidden_features\n",
    "        self.out_features = out_features\n",
    "        self.n_layers = n_layers\n",
    "\n",
    "\n",
    "        layers = []\n",
    "\n",
    "        # Add geometric product layers.\n",
    "        for i in range(n_layers - 1):\n",
    "            layers.append(\n",
    "                nn.Sequential(\n",
    "                    MVLinear(self.algebra, in_features, hidden_features),\n",
    "                    MVSiLU(self.algebra, hidden_features),\n",
    "                    SteerableGeometricProductLayer(\n",
    "                        self.algebra,\n",
    "                        hidden_features,\n",
    "                        normalization_init=normalization_init,\n",
    "                    ),\n",
    "                    MVLayerNorm(self.algebra, hidden_features),\n",
    "                )\n",
    "            )\n",
    "            in_features = hidden_features\n",
    "\n",
    "        # Add final layer.\n",
    "        layers.append(\n",
    "            nn.Sequential(\n",
    "                MVLinear(self.algebra, in_features, out_features),\n",
    "                MVSiLU(self.algebra, out_features),\n",
    "                SteerableGeometricProductLayer(\n",
    "                    self.algebra,\n",
    "                    out_features,\n",
    "                    normalization_init=normalization_init,\n",
    "                ),\n",
    "                MVLayerNorm(self.algebra, out_features),\n",
    "            )\n",
    "        )\n",
    "        self.layers = nn.Sequential(*layers)\n",
    "\n",
    "    def forward(self, x):\n",
    "        for layer in self.layers:\n",
    "            x = layer(x)\n",
    "        return x\n",
    "\n"
   ]
  },
  {
   "cell_type": "code",
   "execution_count": 44,
   "metadata": {},
   "outputs": [],
   "source": [
    "class MLP(nn.Module):\n",
    "    def __init__(self, algebra, dim, hidden_dim = 1024):\n",
    "        super(MLP, self).__init__()\n",
    "        # self.fc_in = nn.Linear(dim, hidden_dim)\n",
    "        # self.layers = nn.Sequential(\n",
    "        #     *[\n",
    "        #         # nn.Linear(hidden_dim, hidden_dim),\n",
    "        #         Bilinear(hidden_dim)\n",
    "        #     ] * 8\n",
    "        # )\n",
    "        # self.fc_out = nn.Sequential(nn.Linear(hidden_dim, 1))\n",
    "\n",
    "        self.fc_in = MVLinear(algebra, dim, hidden_dim)\n",
    "\n",
    "        self.layers = nn.Sequential(\n",
    "            *[\n",
    "                CEMLP(algebra, hidden_dim, hidden_dim, hidden_dim)\n",
    "                for _ in range(8)\n",
    "            ]\n",
    "        )\n",
    "\n",
    "        self.fc_out = MVLinear(algebra, hidden_dim, 1)\n",
    "\n",
    "\n",
    "    def forward(self, x, z):\n",
    "        print(x.shape, z.shape)\n",
    "        x_cl = ca.embed_grade(x, 1)\n",
    "        z_cl = ca.embed_grade(z, 1)\n",
    "        h_cl = torch.stack([x_cl, z_cl], dim=1)\n",
    "        h_cl = self.fc_in(h_cl)\n",
    "        # x = self.fc_in(x)\n",
    "        # # x = F.gelu(x)\n",
    "        for layer in self.layers:\n",
    "            h_cl = layer(h_cl)\n",
    "            # x = x + F.gelu(x)\n",
    "        h_cl = self.fc_out(h_cl)\n",
    "\n",
    "        s = h_cl[:, :, 0]\n",
    "\n",
    "        return s\n",
    "    \n",
    "mlp = MLP(ca, 2).cuda()\n",
    "image_tensor = image_tensor.cuda()\n",
    "\n",
    "adam = optim.Adam(mlp.parameters(), lr=1e-4)\n"
   ]
  },
  {
   "cell_type": "code",
   "execution_count": 45,
   "metadata": {},
   "outputs": [
    {
     "name": "stdout",
     "output_type": "stream",
     "text": [
      "torch.Size([1024, 2]) torch.Size([1024, 2])\n",
      "iteration 1, loss: 0.43694525957107544\n",
      "torch.Size([1024, 2]) torch.Size([1024, 2])\n",
      "iteration 2, loss: 0.6538165211677551\n",
      "torch.Size([1024, 2]) torch.Size([1024, 2])\n",
      "iteration 3, loss: 4.145079612731934\n",
      "torch.Size([1024, 2]) torch.Size([1024, 2])\n",
      "iteration 4, loss: 5.130706310272217\n",
      "torch.Size([1024, 2]) torch.Size([1024, 2])\n",
      "iteration 5, loss: 20.11728286743164\n",
      "torch.Size([1024, 2]) torch.Size([1024, 2])\n",
      "iteration 6, loss: 5.24314022064209\n",
      "torch.Size([1024, 2]) torch.Size([1024, 2])\n",
      "iteration 7, loss: 1.260610818862915\n",
      "torch.Size([1024, 2]) torch.Size([1024, 2])\n",
      "iteration 8, loss: 0.5593367218971252\n",
      "torch.Size([1024, 2]) torch.Size([1024, 2])\n",
      "iteration 9, loss: 0.5404080748558044\n",
      "torch.Size([1024, 2]) torch.Size([1024, 2])\n",
      "iteration 10, loss: 0.3417201638221741\n",
      "torch.Size([1024, 2]) torch.Size([1024, 2])\n",
      "iteration 11, loss: 0.14930909872055054\n",
      "torch.Size([1024, 2]) torch.Size([1024, 2])\n",
      "iteration 12, loss: 0.21737909317016602\n",
      "torch.Size([1024, 2]) torch.Size([1024, 2])\n",
      "iteration 13, loss: 0.1979348063468933\n",
      "torch.Size([1024, 2]) torch.Size([1024, 2])\n",
      "iteration 14, loss: 0.1008235439658165\n",
      "torch.Size([1024, 2]) torch.Size([1024, 2])\n",
      "iteration 15, loss: 0.1471441090106964\n",
      "torch.Size([1024, 2]) torch.Size([1024, 2])\n",
      "iteration 16, loss: 0.16408082842826843\n",
      "torch.Size([1024, 2]) torch.Size([1024, 2])\n",
      "iteration 17, loss: 0.1067083477973938\n",
      "torch.Size([1024, 2]) torch.Size([1024, 2])\n",
      "iteration 18, loss: 0.11554837226867676\n",
      "torch.Size([1024, 2]) torch.Size([1024, 2])\n",
      "iteration 19, loss: 0.12690533697605133\n",
      "torch.Size([1024, 2]) torch.Size([1024, 2])\n",
      "iteration 20, loss: 0.1272534728050232\n",
      "torch.Size([1024, 2]) torch.Size([1024, 2])\n",
      "iteration 21, loss: 0.08832406997680664\n",
      "torch.Size([1024, 2]) torch.Size([1024, 2])\n",
      "iteration 22, loss: 0.12372810393571854\n",
      "torch.Size([1024, 2]) torch.Size([1024, 2])\n",
      "iteration 23, loss: 0.1317892074584961\n",
      "torch.Size([1024, 2]) torch.Size([1024, 2])\n",
      "iteration 24, loss: 0.10626058280467987\n",
      "torch.Size([1024, 2]) torch.Size([1024, 2])\n",
      "iteration 25, loss: 0.09905572980642319\n",
      "torch.Size([1024, 2]) torch.Size([1024, 2])\n",
      "iteration 26, loss: 0.11762955784797668\n",
      "torch.Size([1024, 2]) torch.Size([1024, 2])\n",
      "iteration 27, loss: 0.09765665233135223\n",
      "torch.Size([1024, 2]) torch.Size([1024, 2])\n",
      "iteration 28, loss: 0.08887910842895508\n",
      "torch.Size([1024, 2]) torch.Size([1024, 2])\n",
      "iteration 29, loss: 0.10624849051237106\n",
      "torch.Size([1024, 2]) torch.Size([1024, 2])\n",
      "iteration 30, loss: 0.09548261761665344\n",
      "torch.Size([1024, 2]) torch.Size([1024, 2])\n",
      "iteration 31, loss: 0.10927678644657135\n",
      "torch.Size([1024, 2]) torch.Size([1024, 2])\n",
      "iteration 32, loss: 0.08352451771497726\n",
      "torch.Size([1024, 2]) torch.Size([1024, 2])\n",
      "iteration 33, loss: 0.093252994120121\n",
      "torch.Size([1024, 2]) torch.Size([1024, 2])\n",
      "iteration 34, loss: 0.08420608192682266\n",
      "torch.Size([1024, 2]) torch.Size([1024, 2])\n",
      "iteration 35, loss: 0.1114073172211647\n",
      "torch.Size([1024, 2]) torch.Size([1024, 2])\n",
      "iteration 36, loss: 0.1000133752822876\n",
      "torch.Size([1024, 2]) torch.Size([1024, 2])\n",
      "iteration 37, loss: 0.08396872878074646\n",
      "torch.Size([1024, 2]) torch.Size([1024, 2])\n",
      "iteration 38, loss: 0.08259956538677216\n",
      "torch.Size([1024, 2]) torch.Size([1024, 2])\n",
      "iteration 39, loss: 0.09432148933410645\n",
      "torch.Size([1024, 2]) torch.Size([1024, 2])\n",
      "iteration 40, loss: 0.09699647128582001\n",
      "torch.Size([1024, 2]) torch.Size([1024, 2])\n",
      "iteration 41, loss: 0.08416596055030823\n",
      "torch.Size([1024, 2]) torch.Size([1024, 2])\n",
      "iteration 42, loss: 0.10003315657377243\n",
      "torch.Size([1024, 2]) torch.Size([1024, 2])\n",
      "iteration 43, loss: 0.08194176852703094\n",
      "torch.Size([1024, 2]) torch.Size([1024, 2])\n",
      "iteration 44, loss: 0.09106233716011047\n",
      "torch.Size([1024, 2]) torch.Size([1024, 2])\n",
      "iteration 45, loss: 0.08653613924980164\n",
      "torch.Size([1024, 2]) torch.Size([1024, 2])\n",
      "iteration 46, loss: 0.08127973973751068\n",
      "torch.Size([1024, 2]) torch.Size([1024, 2])\n",
      "iteration 47, loss: 0.08989021182060242\n",
      "torch.Size([1024, 2]) torch.Size([1024, 2])\n",
      "iteration 48, loss: 0.08478455990552902\n",
      "torch.Size([1024, 2]) torch.Size([1024, 2])\n",
      "iteration 49, loss: 0.07991950958967209\n",
      "torch.Size([1024, 2]) torch.Size([1024, 2])\n",
      "iteration 50, loss: 0.08576206862926483\n",
      "torch.Size([1024, 2]) torch.Size([1024, 2])\n",
      "iteration 51, loss: 0.08829818665981293\n",
      "torch.Size([1024, 2]) torch.Size([1024, 2])\n",
      "iteration 52, loss: 0.08152297139167786\n",
      "torch.Size([1024, 2]) torch.Size([1024, 2])\n",
      "iteration 53, loss: 0.08692324161529541\n",
      "torch.Size([1024, 2]) torch.Size([1024, 2])\n",
      "iteration 54, loss: 0.08276544511318207\n",
      "torch.Size([1024, 2]) torch.Size([1024, 2])\n",
      "iteration 55, loss: 0.07647392898797989\n",
      "torch.Size([1024, 2]) torch.Size([1024, 2])\n",
      "iteration 56, loss: 0.08140600472688675\n",
      "torch.Size([1024, 2]) torch.Size([1024, 2])\n",
      "iteration 57, loss: 0.08612555265426636\n",
      "torch.Size([1024, 2]) torch.Size([1024, 2])\n",
      "iteration 58, loss: 0.08802477270364761\n",
      "torch.Size([1024, 2]) torch.Size([1024, 2])\n",
      "iteration 59, loss: 0.08339221775531769\n",
      "torch.Size([1024, 2]) torch.Size([1024, 2])\n",
      "iteration 60, loss: 0.07845711708068848\n",
      "torch.Size([1024, 2]) torch.Size([1024, 2])\n",
      "iteration 61, loss: 0.09212726354598999\n",
      "torch.Size([1024, 2]) torch.Size([1024, 2])\n",
      "iteration 62, loss: 0.08417442440986633\n",
      "torch.Size([1024, 2]) torch.Size([1024, 2])\n",
      "iteration 63, loss: 0.07453247904777527\n",
      "torch.Size([1024, 2]) torch.Size([1024, 2])\n",
      "iteration 64, loss: 0.08099588751792908\n",
      "torch.Size([1024, 2]) torch.Size([1024, 2])\n",
      "iteration 65, loss: 0.08727045357227325\n",
      "torch.Size([1024, 2]) torch.Size([1024, 2])\n",
      "iteration 66, loss: 0.07888057827949524\n",
      "torch.Size([1024, 2]) torch.Size([1024, 2])\n",
      "iteration 67, loss: 0.07659753412008286\n",
      "torch.Size([1024, 2]) torch.Size([1024, 2])\n",
      "iteration 68, loss: 0.08777473121881485\n",
      "torch.Size([1024, 2]) torch.Size([1024, 2])\n",
      "iteration 69, loss: 0.08595976233482361\n",
      "torch.Size([1024, 2]) torch.Size([1024, 2])\n",
      "iteration 70, loss: 0.08443519473075867\n",
      "torch.Size([1024, 2]) torch.Size([1024, 2])\n",
      "iteration 71, loss: 0.08391417562961578\n",
      "torch.Size([1024, 2]) torch.Size([1024, 2])\n",
      "iteration 72, loss: 0.0826597660779953\n",
      "torch.Size([1024, 2]) torch.Size([1024, 2])\n",
      "iteration 73, loss: 0.08067423850297928\n",
      "torch.Size([1024, 2]) torch.Size([1024, 2])\n",
      "iteration 74, loss: 0.07931265234947205\n",
      "torch.Size([1024, 2]) torch.Size([1024, 2])\n",
      "iteration 75, loss: 0.08398444205522537\n",
      "torch.Size([1024, 2]) torch.Size([1024, 2])\n",
      "iteration 76, loss: 0.07746463268995285\n",
      "torch.Size([1024, 2]) torch.Size([1024, 2])\n",
      "iteration 77, loss: 0.07406871020793915\n",
      "torch.Size([1024, 2]) torch.Size([1024, 2])\n",
      "iteration 78, loss: 0.07831379771232605\n",
      "torch.Size([1024, 2]) torch.Size([1024, 2])\n",
      "iteration 79, loss: 0.06768421828746796\n",
      "torch.Size([1024, 2]) torch.Size([1024, 2])\n",
      "iteration 80, loss: 0.07404458522796631\n",
      "torch.Size([1024, 2]) torch.Size([1024, 2])\n",
      "iteration 81, loss: 0.07879263907670975\n",
      "torch.Size([1024, 2]) torch.Size([1024, 2])\n",
      "iteration 82, loss: 0.07817903906106949\n",
      "torch.Size([1024, 2]) torch.Size([1024, 2])\n",
      "iteration 83, loss: 0.07792014628648758\n",
      "torch.Size([1024, 2]) torch.Size([1024, 2])\n",
      "iteration 84, loss: 0.0743018239736557\n",
      "torch.Size([1024, 2]) torch.Size([1024, 2])\n",
      "iteration 85, loss: 0.07875674962997437\n",
      "torch.Size([1024, 2]) torch.Size([1024, 2])\n",
      "iteration 86, loss: 0.07404452562332153\n",
      "torch.Size([1024, 2]) torch.Size([1024, 2])\n",
      "iteration 87, loss: 0.08191840350627899\n",
      "torch.Size([1024, 2]) torch.Size([1024, 2])\n",
      "iteration 88, loss: 0.07029840350151062\n",
      "torch.Size([1024, 2]) torch.Size([1024, 2])\n",
      "iteration 89, loss: 0.07670828700065613\n",
      "torch.Size([1024, 2]) torch.Size([1024, 2])\n",
      "iteration 90, loss: 0.06206434220075607\n",
      "torch.Size([1024, 2]) torch.Size([1024, 2])\n",
      "iteration 91, loss: 0.08226829767227173\n",
      "torch.Size([1024, 2]) torch.Size([1024, 2])\n",
      "iteration 92, loss: 0.07650022953748703\n",
      "torch.Size([1024, 2]) torch.Size([1024, 2])\n",
      "iteration 93, loss: 0.07823601365089417\n",
      "torch.Size([1024, 2]) torch.Size([1024, 2])\n",
      "iteration 94, loss: 0.07904435694217682\n",
      "torch.Size([1024, 2]) torch.Size([1024, 2])\n",
      "iteration 95, loss: 0.07212704420089722\n",
      "torch.Size([1024, 2]) torch.Size([1024, 2])\n",
      "iteration 96, loss: 0.07942032814025879\n",
      "torch.Size([1024, 2]) torch.Size([1024, 2])\n",
      "iteration 97, loss: 0.0779217779636383\n",
      "torch.Size([1024, 2]) torch.Size([1024, 2])\n",
      "iteration 98, loss: 0.06916262954473495\n",
      "torch.Size([1024, 2]) torch.Size([1024, 2])\n",
      "iteration 99, loss: 0.07742926478385925\n",
      "torch.Size([1024, 2]) torch.Size([1024, 2])\n",
      "iteration 100, loss: 0.07376189529895782\n",
      "torch.Size([1024, 2]) torch.Size([1024, 2])\n",
      "iteration 101, loss: 0.07407262176275253\n",
      "torch.Size([1024, 2]) torch.Size([1024, 2])\n",
      "iteration 102, loss: 0.07548954337835312\n",
      "torch.Size([1024, 2]) torch.Size([1024, 2])\n",
      "iteration 103, loss: 0.08179827034473419\n",
      "torch.Size([1024, 2]) torch.Size([1024, 2])\n",
      "iteration 104, loss: 0.07086779177188873\n",
      "torch.Size([1024, 2]) torch.Size([1024, 2])\n",
      "iteration 105, loss: 0.0881672129034996\n",
      "torch.Size([1024, 2]) torch.Size([1024, 2])\n",
      "iteration 106, loss: 0.07298005372285843\n",
      "torch.Size([1024, 2]) torch.Size([1024, 2])\n",
      "iteration 107, loss: 0.0730719268321991\n",
      "torch.Size([1024, 2]) torch.Size([1024, 2])\n",
      "iteration 108, loss: 0.07746964693069458\n",
      "torch.Size([1024, 2]) torch.Size([1024, 2])\n"
     ]
    },
    {
     "ename": "KeyboardInterrupt",
     "evalue": "",
     "output_type": "error",
     "traceback": [
      "\u001b[0;31m---------------------------------------------------------------------------\u001b[0m",
      "\u001b[0;31mKeyboardInterrupt\u001b[0m                         Traceback (most recent call last)",
      "Cell \u001b[0;32mIn[45], line 28\u001b[0m\n\u001b[1;32m     25\u001b[0m loss \u001b[38;5;241m=\u001b[39m F\u001b[38;5;241m.\u001b[39mmse_loss(output[:, \u001b[38;5;241m0\u001b[39m], targets[\u001b[38;5;241m0\u001b[39m])\n\u001b[1;32m     27\u001b[0m adam\u001b[38;5;241m.\u001b[39mzero_grad()\n\u001b[0;32m---> 28\u001b[0m \u001b[43mloss\u001b[49m\u001b[38;5;241;43m.\u001b[39;49m\u001b[43mbackward\u001b[49m\u001b[43m(\u001b[49m\u001b[43m)\u001b[49m\n\u001b[1;32m     29\u001b[0m adam\u001b[38;5;241m.\u001b[39mstep()\n\u001b[1;32m     31\u001b[0m i \u001b[38;5;241m+\u001b[39m\u001b[38;5;241m=\u001b[39m \u001b[38;5;241m1\u001b[39m\n",
      "File \u001b[0;32m~/rail1/src/cuda/.venv/lib/python3.10/site-packages/torch/_tensor.py:396\u001b[0m, in \u001b[0;36mTensor.backward\u001b[0;34m(self, gradient, retain_graph, create_graph, inputs)\u001b[0m\n\u001b[1;32m    387\u001b[0m \u001b[38;5;28;01mif\u001b[39;00m has_torch_function_unary(\u001b[38;5;28mself\u001b[39m):\n\u001b[1;32m    388\u001b[0m     \u001b[38;5;28;01mreturn\u001b[39;00m handle_torch_function(\n\u001b[1;32m    389\u001b[0m         Tensor\u001b[38;5;241m.\u001b[39mbackward,\n\u001b[1;32m    390\u001b[0m         (\u001b[38;5;28mself\u001b[39m,),\n\u001b[0;32m   (...)\u001b[0m\n\u001b[1;32m    394\u001b[0m         create_graph\u001b[38;5;241m=\u001b[39mcreate_graph,\n\u001b[1;32m    395\u001b[0m         inputs\u001b[38;5;241m=\u001b[39minputs)\n\u001b[0;32m--> 396\u001b[0m \u001b[43mtorch\u001b[49m\u001b[38;5;241;43m.\u001b[39;49m\u001b[43mautograd\u001b[49m\u001b[38;5;241;43m.\u001b[39;49m\u001b[43mbackward\u001b[49m\u001b[43m(\u001b[49m\u001b[38;5;28;43mself\u001b[39;49m\u001b[43m,\u001b[49m\u001b[43m \u001b[49m\u001b[43mgradient\u001b[49m\u001b[43m,\u001b[49m\u001b[43m \u001b[49m\u001b[43mretain_graph\u001b[49m\u001b[43m,\u001b[49m\u001b[43m \u001b[49m\u001b[43mcreate_graph\u001b[49m\u001b[43m,\u001b[49m\u001b[43m \u001b[49m\u001b[43minputs\u001b[49m\u001b[38;5;241;43m=\u001b[39;49m\u001b[43minputs\u001b[49m\u001b[43m)\u001b[49m\n",
      "File \u001b[0;32m~/rail1/src/cuda/.venv/lib/python3.10/site-packages/torch/autograd/__init__.py:173\u001b[0m, in \u001b[0;36mbackward\u001b[0;34m(tensors, grad_tensors, retain_graph, create_graph, grad_variables, inputs)\u001b[0m\n\u001b[1;32m    168\u001b[0m     retain_graph \u001b[38;5;241m=\u001b[39m create_graph\n\u001b[1;32m    170\u001b[0m \u001b[38;5;66;03m# The reason we repeat same the comment below is that\u001b[39;00m\n\u001b[1;32m    171\u001b[0m \u001b[38;5;66;03m# some Python versions print out the first line of a multi-line function\u001b[39;00m\n\u001b[1;32m    172\u001b[0m \u001b[38;5;66;03m# calls in the traceback and some print out the last line\u001b[39;00m\n\u001b[0;32m--> 173\u001b[0m \u001b[43mVariable\u001b[49m\u001b[38;5;241;43m.\u001b[39;49m\u001b[43m_execution_engine\u001b[49m\u001b[38;5;241;43m.\u001b[39;49m\u001b[43mrun_backward\u001b[49m\u001b[43m(\u001b[49m\u001b[43m  \u001b[49m\u001b[38;5;66;43;03m# Calls into the C++ engine to run the backward pass\u001b[39;49;00m\n\u001b[1;32m    174\u001b[0m \u001b[43m    \u001b[49m\u001b[43mtensors\u001b[49m\u001b[43m,\u001b[49m\u001b[43m \u001b[49m\u001b[43mgrad_tensors_\u001b[49m\u001b[43m,\u001b[49m\u001b[43m \u001b[49m\u001b[43mretain_graph\u001b[49m\u001b[43m,\u001b[49m\u001b[43m \u001b[49m\u001b[43mcreate_graph\u001b[49m\u001b[43m,\u001b[49m\u001b[43m \u001b[49m\u001b[43minputs\u001b[49m\u001b[43m,\u001b[49m\n\u001b[1;32m    175\u001b[0m \u001b[43m    \u001b[49m\u001b[43mallow_unreachable\u001b[49m\u001b[38;5;241;43m=\u001b[39;49m\u001b[38;5;28;43;01mTrue\u001b[39;49;00m\u001b[43m,\u001b[49m\u001b[43m \u001b[49m\u001b[43maccumulate_grad\u001b[49m\u001b[38;5;241;43m=\u001b[39;49m\u001b[38;5;28;43;01mTrue\u001b[39;49;00m\u001b[43m)\u001b[49m\n",
      "\u001b[0;31mKeyboardInterrupt\u001b[0m: "
     ]
    }
   ],
   "source": [
    "batch_size = 1\n",
    "num_samples_per_batch = 1024\n",
    "\n",
    "def reflective_sin_emb(x, dim):\n",
    "    result = []\n",
    "    for i in range(1, dim + 1, 2):\n",
    "        result.append(torch.sin(i / 2 * torch.pi * x))\n",
    "    return (torch.stack(result, dim=-1) + 1) / 2\n",
    "\n",
    "i = 0 \n",
    "while True:\n",
    "\n",
    "    # random coordinates in [-1, 1]\n",
    "    random_coordinates = torch.rand(batch_size, num_samples_per_batch, 2, device='cuda') * 2 - 1\n",
    "    # F.grid_sample(image_tensor.unsqueeze(0).unsqueeze(0), torch.tensor([[[[1., 1.]]]], dtype=torch.float32), align_corners=True, mode='nearest')\n",
    "    targets = F.grid_sample(image_tensor.unsqueeze(0), random_coordinates.unsqueeze(2), align_corners=True, mode='nearest')\n",
    "    targets = targets.squeeze(1).squeeze(-1)\n",
    "\n",
    "    random_coordinates = random_coordinates.squeeze(0)\n",
    "\n",
    "    # embedded_coordinates = torch.cat([reflective_sin_emb(random_coordinates[:, 0], 1024), reflective_sin_emb(random_coordinates[:, 1], 1024)], dim=-1)\n",
    "    z = torch.tensor([.7071, .7071], device='cuda')[None].repeat(num_samples_per_batch, 1)\n",
    "    output = mlp(random_coordinates, z)\n",
    "    \n",
    "    loss = F.mse_loss(output[:, 0], targets[0])\n",
    "\n",
    "    adam.zero_grad()\n",
    "    loss.backward()\n",
    "    adam.step()\n",
    "\n",
    "    i += 1\n",
    "\n",
    "    if i % 1 == 0:\n",
    "        print(f'iteration {i}, loss: {loss.item()}')\n",
    "\n",
    "\n"
   ]
  },
  {
   "cell_type": "code",
   "execution_count": 46,
   "metadata": {},
   "outputs": [
    {
     "name": "stdout",
     "output_type": "stream",
     "text": [
      "torch.Size([784, 2]) torch.Size([784, 2])\n"
     ]
    },
    {
     "data": {
      "image/png": "[encoded data removed]",
      "text/plain": [
       "<Figure size 640x480 with 1 Axes>"
      ]
     },
     "metadata": {},
     "output_type": "display_data"
    }
   ],
   "source": [
    "# meshgrid between -1 and 1\n",
    "size = 28\n",
    "repeats = 1\n",
    "x = torch.linspace(-1, -1 + repeats * 2, size * repeats)\n",
    "y = torch.linspace(-1, -1 + repeats * 2, size * repeats)\n",
    "x, y = torch.meshgrid(x, y, indexing='xy')\n",
    "\n",
    "mlp = mlp.cuda()\n",
    "\n",
    "# evaluate the model on the meshgrid\n",
    "with torch.no_grad():\n",
    "    # embedded_coordinates = torch.cat([reflective_sin_emb(x.reshape(-1), 1024), reflective_sin_emb(y.reshape(-1), 1024)], dim=-1).cuda()\n",
    "    coordinates = torch.stack([x, y], dim=-1).reshape(-1, 2).cuda()\n",
    "    z = torch.tensor([.7071, .7071], device='cuda')[None].repeat(size * repeats * size * repeats, 1)\n",
    "    output = mlp(coordinates, z)\n",
    "\n",
    "\n",
    "    output = output.view(size * repeats, size * repeats)\n",
    "\n",
    "plt.imshow(output.cpu(), cmap='gray')\n",
    "plt.savefig(\"test.png\")"
   ]
  },
  {
   "cell_type": "code",
   "execution_count": 47,
   "metadata": {},
   "outputs": [],
   "source": [
    "bv = ca.random_grade(2)\n",
    "bv = bv / ca.norm(bv)\n",
    "# Rotate by 2pi / 8 \n",
    "num_rotations = 8\n",
    "R = ca.exponential(bv * torch.pi / num_rotations)"
   ]
  },
  {
   "cell_type": "code",
   "execution_count": 48,
   "metadata": {},
   "outputs": [
    {
     "name": "stdout",
     "output_type": "stream",
     "text": [
      "tensor([0.0000, 1.0000], device='cuda:0')\n",
      "torch.Size([784, 2]) torch.Size([784, 2])\n",
      "torch.Size([784, 2]) torch.Size([784, 2])\n"
     ]
    },
    {
     "data": {
      "image/png": "[encoded data removed]",
      "text/plain": [
       "<Figure size 640x480 with 1 Axes>"
      ]
     },
     "metadata": {},
     "output_type": "display_data"
    },
    {
     "name": "stdout",
     "output_type": "stream",
     "text": [
      "tensor([-0.7071,  0.7071], device='cuda:0')\n",
      "torch.Size([784, 2]) torch.Size([784, 2])\n",
      "torch.Size([784, 2]) torch.Size([784, 2])\n"
     ]
    },
    {
     "data": {
      "image/png": "[encoded data removed]",
      "text/plain": [
       "<Figure size 640x480 with 1 Axes>"
      ]
     },
     "metadata": {},
     "output_type": "display_data"
    },
    {
     "name": "stdout",
     "output_type": "stream",
     "text": [
      "tensor([-9.9999e-01, -2.9802e-08], device='cuda:0')\n",
      "torch.Size([784, 2]) torch.Size([784, 2])\n",
      "torch.Size([784, 2]) torch.Size([784, 2])\n"
     ]
    },
    {
     "data": {
      "image/png": "[encoded data removed]",
      "text/plain": [
       "<Figure size 640x480 with 1 Axes>"
      ]
     },
     "metadata": {},
     "output_type": "display_data"
    },
    {
     "name": "stdout",
     "output_type": "stream",
     "text": [
      "tensor([-0.7071, -0.7071], device='cuda:0')\n",
      "torch.Size([784, 2]) torch.Size([784, 2])\n",
      "torch.Size([784, 2]) torch.Size([784, 2])\n"
     ]
    },
    {
     "data": {
      "image/png": "[encoded data removed]",
      "text/plain": [
       "<Figure size 640x480 with 1 Axes>"
      ]
     },
     "metadata": {},
     "output_type": "display_data"
    },
    {
     "name": "stdout",
     "output_type": "stream",
     "text": [
      "tensor([ 5.9605e-08, -9.9999e-01], device='cuda:0')\n",
      "torch.Size([784, 2]) torch.Size([784, 2])\n",
      "torch.Size([784, 2]) torch.Size([784, 2])\n"
     ]
    },
    {
     "data": {
      "image/png": "[encoded data removed]",
      "text/plain": [
       "<Figure size 640x480 with 1 Axes>"
      ]
     },
     "metadata": {},
     "output_type": "display_data"
    },
    {
     "name": "stdout",
     "output_type": "stream",
     "text": [
      "tensor([ 0.7071, -0.7071], device='cuda:0')\n",
      "torch.Size([784, 2]) torch.Size([784, 2])\n",
      "torch.Size([784, 2]) torch.Size([784, 2])\n"
     ]
    },
    {
     "data": {
      "image/png": "[encoded data removed]",
      "text/plain": [
       "<Figure size 640x480 with 1 Axes>"
      ]
     },
     "metadata": {},
     "output_type": "display_data"
    },
    {
     "name": "stdout",
     "output_type": "stream",
     "text": [
      "tensor([9.9999e-01, 2.9802e-08], device='cuda:0')\n",
      "torch.Size([784, 2]) torch.Size([784, 2])\n",
      "torch.Size([784, 2]) torch.Size([784, 2])\n"
     ]
    },
    {
     "data": {
      "image/png": "[encoded data removed]",
      "text/plain": [
       "<Figure size 640x480 with 1 Axes>"
      ]
     },
     "metadata": {},
     "output_type": "display_data"
    },
    {
     "name": "stdout",
     "output_type": "stream",
     "text": [
      "tensor([0.7071, 0.7071], device='cuda:0')\n",
      "torch.Size([784, 2]) torch.Size([784, 2])\n",
      "torch.Size([784, 2]) torch.Size([784, 2])\n"
     ]
    },
    {
     "data": {
      "image/png": "[encoded data removed]",
      "text/plain": [
       "<Figure size 640x480 with 1 Axes>"
      ]
     },
     "metadata": {},
     "output_type": "display_data"
    },
    {
     "name": "stdout",
     "output_type": "stream",
     "text": [
      "tensor([-2.9802e-08,  9.9999e-01], device='cuda:0')\n",
      "torch.Size([784, 2]) torch.Size([784, 2])\n",
      "torch.Size([784, 2]) torch.Size([784, 2])\n"
     ]
    },
    {
     "data": {
      "image/png": "[encoded data removed]",
      "text/plain": [
       "<Figure size 640x480 with 1 Axes>"
      ]
     },
     "metadata": {},
     "output_type": "display_data"
    },
    {
     "data": {
      "text/plain": [
       "<Figure size 640x480 with 0 Axes>"
      ]
     },
     "metadata": {},
     "output_type": "display_data"
    }
   ],
   "source": [
    "# evaluate the model on the meshgrid\n",
    "\n",
    "for i in range(num_rotations + 1):\n",
    "\n",
    "    with torch.no_grad():\n",
    "\n",
    "        z = ca.rho(R, ca.embed_grade(z, 1))[..., 1:3]\n",
    "        print(z[0])\n",
    "        # embedded_coordinates = torch.cat([reflective_sin_emb(x.reshape(-1), 1024), reflective_sin_emb(y.reshape(-1), 1024)], dim=-1).cuda()\n",
    "        coordinates = torch.stack([x, y], dim=-1).reshape(-1, 2).cuda()\n",
    "        output = mlp(coordinates, z)\n",
    "\n",
    "\n",
    "        output = output.view(size * repeats, size * repeats)\n",
    "\n",
    "        output = mlp(coordinates, z)\n",
    "\n",
    "\n",
    "        output = output.view(size * repeats, size * repeats)\n",
    "\n",
    "    plt.imshow(output.cpu(), cmap='gray')\n",
    "    plt.show()\n",
    "    plt.savefig(\"test.png\")"
   ]
  },
  {
   "cell_type": "code",
   "execution_count": null,
   "metadata": {},
   "outputs": [],
   "source": []
  }
 ],
 "metadata": {
  "kernelspec": {
   "display_name": ".venv",
   "language": "python",
   "name": "python3"
  },
  "language_info": {
   "codemirror_mode": {
    "name": "ipython",
    "version": 3
   },
   "file_extension": ".py",
   "mimetype": "text/x-python",
   "name": "python",
   "nbconvert_exporter": "python",
   "pygments_lexer": "ipython3",
   "version": "3.10.13"
  }
 },
 "nbformat": 4,
 "nbformat_minor": 2
}
