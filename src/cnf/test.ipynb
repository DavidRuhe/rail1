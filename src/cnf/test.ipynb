{
 "cells": [
  {
   "cell_type": "code",
   "execution_count": 112,
   "metadata": {},
   "outputs": [],
   "source": [
    "import torch\n",
    "from algebra.cliffordalgebra import CliffordAlgebra\n",
    "# from gp import SteerableGeometricProductLayer\n",
    "import matplotlib.pyplot as plt"
   ]
  },
  {
   "cell_type": "code",
   "execution_count": 113,
   "metadata": {},
   "outputs": [],
   "source": [
    "ca = CliffordAlgebra((1, 1))"
   ]
  },
  {
   "cell_type": "code",
   "execution_count": 114,
   "metadata": {},
   "outputs": [],
   "source": [
    "# meshgrid\n",
    "x = torch.linspace(-1, 1, 128)\n",
    "y = torch.linspace(-1, 1, 128)\n",
    "\n",
    "x, y = torch.meshgrid(x, y, indexing='xy')"
   ]
  },
  {
   "cell_type": "code",
   "execution_count": 115,
   "metadata": {},
   "outputs": [],
   "source": [
    "X = torch.stack([x, y], dim=-1).reshape(-1, 2)\n",
    "X = ca.embed_grade(X, 1)"
   ]
  },
  {
   "cell_type": "code",
   "execution_count": 116,
   "metadata": {},
   "outputs": [],
   "source": [
    "z = torch.tensor([[0, 1, 0, 0]]).float()\n"
   ]
  },
  {
   "cell_type": "code",
   "execution_count": 117,
   "metadata": {},
   "outputs": [],
   "source": [
    "result = ca.geometric_product(z, X)"
   ]
  },
  {
   "cell_type": "code",
   "execution_count": 118,
   "metadata": {},
   "outputs": [],
   "source": [
    "B = ca.get_grade(result, 2)"
   ]
  },
  {
   "cell_type": "code",
   "execution_count": 119,
   "metadata": {},
   "outputs": [],
   "source": [
    "B = B.reshape(128, 128)"
   ]
  },
  {
   "cell_type": "code",
   "execution_count": 120,
   "metadata": {},
   "outputs": [
    {
     "data": {
      "text/plain": [
       "<matplotlib.image.AxesImage at 0x7f15b4307be0>"
      ]
     },
     "execution_count": 120,
     "metadata": {},
     "output_type": "execute_result"
    },
    {
     "data": {
      "image/png": "[encoded data removed]",
      "text/plain": [
       "<Figure size 640x480 with 1 Axes>"
      ]
     },
     "metadata": {},
     "output_type": "display_data"
    }
   ],
   "source": [
    "plt.imshow(B)"
   ]
  },
  {
   "cell_type": "code",
   "execution_count": 121,
   "metadata": {},
   "outputs": [
    {
     "name": "stderr",
     "output_type": "stream",
     "text": [
      "/home/druhe/rail1/src/cnf/algebra/cliffordalgebra.py:71: UserWarning: __floordiv__ is deprecated, and its behavior will change in a future version of pytorch. It currently rounds toward 0 (like the 'trunc' function NOT 'floor'). This results in incorrect rounding for negative values. To keep the current behavior, use torch.div(a, b, rounding_mode='trunc'), or for actual floor division, use torch.div(a, b, rounding_mode='floor').\n",
      "  return torch.pow(-1, self.bbo_grades * (self.bbo_grades - 1) // 2)\n"
     ]
    }
   ],
   "source": [
    "bv = ca.random_grade(2)\n",
    "bv = bv / ca.norm(bv)\n",
    "# Rotate by 2pi / 8 \n",
    "num_rotations = 128\n",
    "R = ca.exponential(bv * torch.pi / num_rotations)"
   ]
  },
  {
   "cell_type": "code",
   "execution_count": 122,
   "metadata": {},
   "outputs": [],
   "source": [
    "import numpy as np\n",
    "def create_circular_mask(h, w, center=None, radius=None):\n",
    "\n",
    "    if center is None: # use the middle of the image\n",
    "        center = (int(w/2), int(h/2))\n",
    "    if radius is None: # use the smallest distance between the center and image walls\n",
    "        radius = min(center[0], center[1], w-center[0], h-center[1])\n",
    "\n",
    "    Y, X = np.ogrid[:h, :w]\n",
    "    dist_from_center = np.sqrt((X - center[0])**2 + (Y-center[1])**2)\n",
    "\n",
    "    mask = dist_from_center <= radius\n",
    "    return mask\n",
    "\n",
    "\n",
    "mask = create_circular_mask(128, 128, radius=64)\n"
   ]
  },
  {
   "cell_type": "code",
   "execution_count": 123,
   "metadata": {},
   "outputs": [
    {
     "name": "stdout",
     "output_type": "stream",
     "text": [
      "tensor(1.) tensor(0.)\n",
      "tensor(1.) tensor(0.)\n",
      "tensor(1.) tensor(0.)\n",
      "tensor(1.) tensor(0.)\n",
      "tensor(1.) tensor(0.)\n",
      "tensor(1.) tensor(0.)\n",
      "tensor(1.) tensor(0.)\n",
      "tensor(1.) tensor(0.)\n",
      "tensor(1.) tensor(0.)\n",
      "tensor(1.) tensor(0.)\n",
      "tensor(1.) tensor(0.)\n",
      "tensor(1.) tensor(0.)\n",
      "tensor(1.) tensor(0.)\n",
      "tensor(1.) tensor(0.)\n",
      "tensor(1.) tensor(0.)\n",
      "tensor(1.) tensor(0.)\n",
      "tensor(1.) tensor(0.)\n",
      "tensor(1.) tensor(0.)\n",
      "tensor(1.) tensor(0.)\n",
      "tensor(1.) tensor(0.)\n",
      "tensor(1.) tensor(0.)\n",
      "tensor(1.) tensor(0.)\n",
      "tensor(1.) tensor(0.)\n",
      "tensor(1.) tensor(0.)\n",
      "tensor(1.) tensor(0.)\n",
      "tensor(1.) tensor(0.)\n",
      "tensor(1.) tensor(0.)\n",
      "tensor(1.) tensor(0.)\n",
      "tensor(1.) tensor(0.)\n",
      "tensor(1.) tensor(0.)\n",
      "tensor(1.) tensor(0.)\n",
      "tensor(1.) tensor(0.)\n",
      "tensor(1.) tensor(0.)\n",
      "tensor(1.) tensor(0.)\n",
      "tensor(1.) tensor(0.)\n",
      "tensor(1.) tensor(0.)\n",
      "tensor(1.) tensor(0.)\n",
      "tensor(1.) tensor(0.)\n",
      "tensor(1.) tensor(0.)\n",
      "tensor(1.) tensor(0.)\n",
      "tensor(1.) tensor(0.)\n",
      "tensor(1.) tensor(0.)\n",
      "tensor(1.) tensor(0.)\n",
      "tensor(1.) tensor(0.)\n",
      "tensor(1.) tensor(0.)\n",
      "tensor(1.) tensor(0.)\n",
      "tensor(1.) tensor(0.)\n",
      "tensor(1.) tensor(0.)\n",
      "tensor(1.) tensor(0.)\n",
      "tensor(1.) tensor(0.)\n",
      "tensor(1.) tensor(0.)\n",
      "tensor(1.) tensor(0.)\n",
      "tensor(1.) tensor(0.)\n",
      "tensor(1.) tensor(0.)\n",
      "tensor(1.) tensor(0.)\n",
      "tensor(1.) tensor(0.)\n",
      "tensor(1.) tensor(0.)\n",
      "tensor(1.) tensor(0.)\n",
      "tensor(1.) tensor(0.)\n",
      "tensor(1.) tensor(0.)\n",
      "tensor(1.) tensor(0.)\n",
      "tensor(1.) tensor(0.)\n",
      "tensor(1.) tensor(0.)\n",
      "tensor(1.) tensor(0.)\n",
      "tensor(1.) tensor(0.)\n",
      "tensor(1.) tensor(0.)\n",
      "tensor(1.) tensor(0.)\n",
      "tensor(1.) tensor(0.)\n",
      "tensor(1.) tensor(0.)\n",
      "tensor(1.) tensor(0.)\n",
      "tensor(1.) tensor(0.)\n",
      "tensor(1.) tensor(0.)\n",
      "tensor(1.) tensor(0.)\n",
      "tensor(1.) tensor(0.)\n",
      "tensor(1.) tensor(0.)\n",
      "tensor(1.) tensor(0.)\n",
      "tensor(1.) tensor(0.)\n",
      "tensor(1.) tensor(0.)\n",
      "tensor(1.) tensor(0.)\n",
      "tensor(1.) tensor(0.)\n",
      "tensor(1.) tensor(0.)\n",
      "tensor(1.) tensor(0.)\n",
      "tensor(1.) tensor(0.)\n",
      "tensor(1.) tensor(0.)\n",
      "tensor(1.) tensor(0.)\n",
      "tensor(1.) tensor(0.)\n",
      "tensor(1.) tensor(0.)\n",
      "tensor(1.) tensor(0.)\n",
      "tensor(1.) tensor(0.)\n",
      "tensor(1.) tensor(0.)\n",
      "tensor(1.) tensor(0.)\n",
      "tensor(1.) tensor(0.)\n",
      "tensor(1.) tensor(0.)\n",
      "tensor(1.) tensor(0.)\n",
      "tensor(1.) tensor(0.)\n",
      "tensor(1.) tensor(0.)\n",
      "tensor(1.) tensor(0.)\n",
      "tensor(1.) tensor(0.)\n",
      "tensor(1.) tensor(0.)\n",
      "tensor(1.) tensor(0.)\n",
      "tensor(1.) tensor(0.)\n",
      "tensor(1.) tensor(0.)\n",
      "tensor(1.) tensor(0.)\n",
      "tensor(1.) tensor(0.)\n",
      "tensor(1.) tensor(0.)\n",
      "tensor(1.) tensor(0.)\n",
      "tensor(1.) tensor(0.)\n",
      "tensor(1.) tensor(0.)\n",
      "tensor(1.) tensor(0.)\n",
      "tensor(1.) tensor(0.)\n",
      "tensor(1.) tensor(0.)\n",
      "tensor(1.) tensor(0.)\n",
      "tensor(1.) tensor(0.)\n",
      "tensor(1.) tensor(0.)\n",
      "tensor(1.) tensor(0.)\n",
      "tensor(1.) tensor(0.)\n",
      "tensor(1.) tensor(0.)\n",
      "tensor(1.) tensor(0.)\n",
      "tensor(1.) tensor(0.)\n",
      "tensor(1.) tensor(0.)\n",
      "tensor(1.) tensor(0.)\n",
      "tensor(1.) tensor(0.)\n",
      "tensor(1.) tensor(0.)\n",
      "tensor(1.) tensor(0.)\n",
      "tensor(1.) tensor(0.)\n",
      "tensor(1.) tensor(0.)\n",
      "tensor(1.) tensor(0.)\n",
      "tensor(1.) tensor(0.)\n",
      "tensor(1.) tensor(0.)\n"
     ]
    }
   ],
   "source": [
    "\n",
    "images = []\n",
    "z = torch.tensor([[0, 1, 0, 0]]).float()\n",
    "\n",
    "n = ca.norm(X)\n",
    "X = X * torch.sin(n) ** 3\n",
    "\n",
    "\n",
    "for i in range(num_rotations + 1):\n",
    "\n",
    "\n",
    "    result = ca.geometric_product(z, X)\n",
    "\n",
    "    result = torch.sin(ca.norm(result)) * result\n",
    "\n",
    "    B = ca.get_grade(result, 2)\n",
    "    B = B.reshape(128, 128)\n",
    "    B = B * mask\n",
    "    # plt.imshow(B)\n",
    "\n",
    "    # plt.show()\n",
    "    B = (B - B.min()) / (B.max() - B.min())\n",
    "    print(B.max(), B.min())\n",
    "\n",
    "    img = (B[:, :, None].repeat(1, 1, 3) * 255).type(torch.uint8)\n",
    "    images.append(img.numpy())\n",
    "    z = ca.rho(R, z)\n",
    "\n"
   ]
  },
  {
   "cell_type": "code",
   "execution_count": 124,
   "metadata": {},
   "outputs": [],
   "source": [
    "import imageio\n",
    "imageio.mimsave('movie.gif', images, format='GIF', fps=24, loop=0)\n",
    "# imageio.mimsave('movie.gif', images, format='GIF', fps=24, loop=0)"
   ]
  },
  {
   "cell_type": "code",
   "execution_count": null,
   "metadata": {},
   "outputs": [],
   "source": []
  }
 ],
 "metadata": {
  "kernelspec": {
   "display_name": ".venv",
   "language": "python",
   "name": "python3"
  },
  "language_info": {
   "codemirror_mode": {
    "name": "ipython",
    "version": 3
   },
   "file_extension": ".py",
   "mimetype": "text/x-python",
   "name": "python",
   "nbconvert_exporter": "python",
   "pygments_lexer": "ipython3",
   "version": "3.10.13"
  }
 },
 "nbformat": 4,
 "nbformat_minor": 2
}
