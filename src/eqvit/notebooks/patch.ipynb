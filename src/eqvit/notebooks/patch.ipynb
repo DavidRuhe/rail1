{
 "cells": [
  {
   "cell_type": "code",
   "execution_count": 107,
   "metadata": {},
   "outputs": [],
   "source": [
    "import torch\n",
    "import math\n",
    "import matplotlib.pyplot as plt\n",
    "import torch.nn.functional as F"
   ]
  },
  {
   "cell_type": "code",
   "execution_count": 130,
   "metadata": {},
   "outputs": [
    {
     "data": {
      "text/plain": [
       "<matplotlib.image.AxesImage at 0x7f3d15fc8100>"
      ]
     },
     "execution_count": 130,
     "metadata": {},
     "output_type": "execute_result"
    },
    {
     "data": {
      "image/png": "[encoded data removed]",
      "text/plain": [
       "<Figure size 640x480 with 1 Axes>"
      ]
     },
     "metadata": {},
     "output_type": "display_data"
    }
   ],
   "source": [
    "patch_size = 3\n",
    "assert patch_size % 2 == 1, \"Patch size must be odd.\"\n",
    "patch = torch.zeros((patch_size, patch_size))\n",
    "patch[:, patch_size // 2] = 1\n",
    "patch = patch / patch.sum()\n",
    "plt.imshow(patch)"
   ]
  },
  {
   "cell_type": "code",
   "execution_count": 132,
   "metadata": {},
   "outputs": [],
   "source": [
    "\n",
    "# # padding = math.ceil(patch.shape[0] * (math.sqrt(2) - 1) / 2)\n",
    "# # patch = torch.nn.functional.pad(patch, (padding, padding, padding, padding))\n",
    "\n",
    "# upsample_image = torch.nn.functional.interpolate(patch[None, None], scale_factor=10)\n",
    "\n",
    "# # padding = math.ceil(upsample_image.shape[2] * (math.sqrt(2) - 1) / 2)\n",
    "# # upsample_image = torch.nn.functional.pad(upsample_image, (padding, padding, padding, padding))\n",
    "\n",
    "# result = torch.nn.functional.interpolate(upsample_image, scale_factor=1/10)\n",
    "\n",
    "# plt.imshow(result[0, 0])\n"
   ]
  },
  {
   "cell_type": "code",
   "execution_count": 166,
   "metadata": {},
   "outputs": [
    {
     "data": {
      "image/png": "[encoded data removed]",
      "text/plain": [
       "<Figure size 640x480 with 1 Axes>"
      ]
     },
     "metadata": {},
     "output_type": "display_data"
    },
    {
     "name": "stdout",
     "output_type": "stream",
     "text": [
      "tensor(1.)\n",
      "tensor(1.)\n"
     ]
    },
    {
     "data": {
      "image/png": "[encoded data removed]",
      "text/plain": [
       "<Figure size 640x480 with 1 Axes>"
      ]
     },
     "metadata": {},
     "output_type": "display_data"
    },
    {
     "ename": "RuntimeError",
     "evalue": "No active exception to reraise",
     "output_type": "error",
     "traceback": [
      "\u001b[0;31m---------------------------------------------------------------------------\u001b[0m",
      "\u001b[0;31mRuntimeError\u001b[0m                              Traceback (most recent call last)",
      "Cell \u001b[0;32mIn[166], line 48\u001b[0m\n\u001b[1;32m     41\u001b[0m plt\u001b[38;5;241m.\u001b[39mimshow(downsampled_patch[\u001b[38;5;241m0\u001b[39m, \u001b[38;5;241m0\u001b[39m])\n\u001b[1;32m     42\u001b[0m plt\u001b[38;5;241m.\u001b[39mshow()\n\u001b[0;32m---> 48\u001b[0m \u001b[38;5;28;01mraise\u001b[39;00m\n\u001b[1;32m     51\u001b[0m plt\u001b[38;5;241m.\u001b[39mimshow(rotated_patch)\n\u001b[1;32m     52\u001b[0m \u001b[38;5;66;03m# plt.imshow(rotated_patch)\u001b[39;00m\n",
      "\u001b[0;31mRuntimeError\u001b[0m: No active exception to reraise"
     ]
    }
   ],
   "source": [
    "def rotate_image(image, radians):\n",
    "\n",
    "    # pad the image with enough zeros so that the rotated patch does not get cropped\n",
    "    # padding = math.ceil(image.shape[0] * (math.sqrt(2) - 1) / 2)\n",
    "    # image = torch.nn.functional.pad(image, (padding, padding, padding, padding))\n",
    "\n",
    "    theta = torch.tensor([\n",
    "        [math.cos(radians), -math.sin(radians), 0],\n",
    "        [math.sin(radians), math.cos(radians), 0]\n",
    "    ])\n",
    "\n",
    "    grid = torch.nn.functional.affine_grid(theta[None], image.size())\n",
    "    rotated_image = torch.nn.functional.grid_sample(image, grid, align_corners=False, mode='bicubic')\n",
    "    return rotated_image\n",
    "\n",
    "\n",
    "def gaussian_kernel(size, sigma=1):\n",
    "    x, y = torch.meshgrid(torch.arange(size), torch.arange(size))\n",
    "    x = x - size // 2\n",
    "    y = y - size // 2\n",
    "\n",
    "    gaussian = torch.exp(-(x**2 + y**2) / (2 * sigma**2))\n",
    "\n",
    "    gaussian /= torch.sum(gaussian)\n",
    "\n",
    "    return gaussian\n",
    "\n",
    "k = gaussian_kernel(3, sigma=1)\n",
    "\n",
    "\n",
    "\n",
    "upsampled_patch = patch[None, None]\n",
    "upsampled_patch = F.conv_transpose2d(upsampled_patch, k, stride=2)\n",
    "upsampled_patch = F.conv_transpose2d(upsampled_patch, k, stride=2)\n",
    "upsampled_patch = F.conv_transpose2d(upsampled_patch, k, stride=2)\n",
    "upsampled_patch = F.conv_transpose2d(upsampled_patch, k, stride=2)\n",
    "\n",
    "rotated_patch = rotate_image(upsampled_patch, torch.pi / 2)\n",
    "\n",
    "plt.imshow(rotated_patch[0, 0])\n",
    "plt.show()\n",
    "\n",
    "print(rotated_patch.sum() / upsampled_patch.sum())\n",
    "\n",
    "\n",
    "downsampled_patch = rotated_patch\n",
    "downsampled_patch = F.conv2d(downsampled_patch, torch.ones(1, 1, 2, 2), stride=2)\n",
    "downsampled_patch = F.conv2d(downsampled_patch, torch.ones(1, 1, 2, 2), stride=2)\n",
    "downsampled_patch = F.conv2d(downsampled_patch, torch.ones(1, 1, 2, 2), stride=2)\n",
    "downsampled_patch = F.conv2d(downsampled_patch, torch.ones(1, 1, 2, 2), stride=2)\n",
    "\n",
    "print(downsampled_patch.sum() / patch.sum())\n",
    "\n",
    "plt.imshow(downsampled_patch[0, 0])\n",
    "plt.show()\n",
    "\n",
    "\n",
    "\n",
    "\n",
    "\n",
    "raise\n",
    "\n",
    "\n",
    "plt.imshow(rotated_patch)\n",
    "# plt.imshow(rotated_patch)\n",
    "\n",
    "downsampled_patch = F.conv2d(rotated_patch[None, None], torch.ones(1, 1, 2, 2) / 4, stride=2)\n",
    "\n",
    "plt.imshow(downsampled_patch[0, 0])\n",
    "\n",
    "print(downsampled_patch.sum())\n",
    "# downsampled_patch = torch.nn.functional.interpolate(rotated_patch[None, None], scale_factor=1/10, mode='bilinear').squeeze()"
   ]
  },
  {
   "cell_type": "code",
   "execution_count": 172,
   "metadata": {},
   "outputs": [],
   "source": [
    "def gaussian_kernel(size, sigma=1):\n",
    "    x, y = torch.meshgrid(torch.arange(size), torch.arange(size))\n",
    "    x = x - size // 2\n",
    "    y = y - size // 2\n",
    "\n",
    "    gaussian = torch.exp(-(x**2 + y**2) / (2 * sigma**2))\n",
    "\n",
    "    gaussian /= torch.sum(gaussian)\n",
    "\n",
    "    return gaussian\n",
    "\n",
    "k = gaussian_kernel(3, sigma=1)"
   ]
  },
  {
   "cell_type": "code",
   "execution_count": 173,
   "metadata": {},
   "outputs": [
    {
     "data": {
      "text/plain": [
       "tensor([[0.0751, 0.1238, 0.0751],\n",
       "        [0.1238, 0.2042, 0.1238],\n",
       "        [0.0751, 0.1238, 0.0751]])"
      ]
     },
     "execution_count": 173,
     "metadata": {},
     "output_type": "execute_result"
    }
   ],
   "source": [
    "k"
   ]
  },
  {
   "cell_type": "code",
   "execution_count": 104,
   "metadata": {},
   "outputs": [
    {
     "data": {
      "text/plain": [
       "tensor(1.0170)"
      ]
     },
     "execution_count": 104,
     "metadata": {},
     "output_type": "execute_result"
    }
   ],
   "source": [
    "downsampled_patch.sum()"
   ]
  },
  {
   "cell_type": "code",
   "execution_count": 105,
   "metadata": {},
   "outputs": [
    {
     "data": {
      "text/plain": [
       "<matplotlib.image.AxesImage at 0x7f3d15e03a60>"
      ]
     },
     "execution_count": 105,
     "metadata": {},
     "output_type": "execute_result"
    },
    {
     "data": {
      "image/png": "[encoded data removed]",
      "text/plain": [
       "<Figure size 640x480 with 1 Axes>"
      ]
     },
     "metadata": {},
     "output_type": "display_data"
    }
   ],
   "source": [
    "plt.imshow(downsampled_patch)"
   ]
  },
  {
   "cell_type": "code",
   "execution_count": null,
   "metadata": {},
   "outputs": [],
   "source": []
  }
 ],
 "metadata": {
  "kernelspec": {
   "display_name": ".venv",
   "language": "python",
   "name": "python3"
  },
  "language_info": {
   "codemirror_mode": {
    "name": "ipython",
    "version": 3
   },
   "file_extension": ".py",
   "mimetype": "text/x-python",
   "name": "python",
   "nbconvert_exporter": "python",
   "pygments_lexer": "ipython3",
   "version": "3.10.13"
  }
 },
 "nbformat": 4,
 "nbformat_minor": 2
}
