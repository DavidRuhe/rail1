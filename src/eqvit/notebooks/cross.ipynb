{
 "cells": [
  {
   "cell_type": "code",
   "execution_count": 1,
   "id": "0bd2d349",
   "metadata": {},
   "outputs": [
    {
     "name": "stderr",
     "output_type": "stream",
     "text": [
      "/home/druhe/rail1/src/eqvit/.venv/lib/python3.10/site-packages/tqdm/auto.py:21: TqdmWarning: IProgress not found. Please update jupyter and ipywidgets. See https://ipywidgets.readthedocs.io/en/stable/user_install.html\n",
      "  from .autonotebook import tqdm as notebook_tqdm\n"
     ]
    }
   ],
   "source": [
    "import torch"
   ]
  },
  {
   "cell_type": "code",
   "execution_count": 2,
   "id": "5b04dbee",
   "metadata": {},
   "outputs": [],
   "source": [
    "h_im = torch.randn(16, 6, 128)"
   ]
  },
  {
   "cell_type": "code",
   "execution_count": 3,
   "id": "0ff0b247",
   "metadata": {},
   "outputs": [],
   "source": [
    "h_pr = torch.randn(16, 32, 128)"
   ]
  },
  {
   "cell_type": "code",
   "execution_count": 8,
   "id": "4ec6afb0",
   "metadata": {},
   "outputs": [],
   "source": [
    "w_v = torch.randn(128, 128)\n",
    "w_k = torch.randn(128, 128)\n",
    "w_q = torch.randn(128, 128)"
   ]
  },
  {
   "cell_type": "code",
   "execution_count": 9,
   "id": "51de8e4c",
   "metadata": {},
   "outputs": [],
   "source": [
    "k_h_im = torch.einsum('bpc, oc->bpo', h_im, w_k)\n",
    "v_h_im = torch.einsum('bpc, oc->bpo', h_im, w_v)\n"
   ]
  },
  {
   "cell_type": "code",
   "execution_count": 10,
   "id": "0ff8d639",
   "metadata": {},
   "outputs": [],
   "source": [
    "q_h_pr = torch.einsum('bpc, oc->bpo', h_pr, w_q)"
   ]
  },
  {
   "cell_type": "code",
   "execution_count": 13,
   "id": "d8f4288e",
   "metadata": {},
   "outputs": [],
   "source": [
    "attn = torch.einsum('bpo, bqo -> bpq', q_h_pr, k_h_im)"
   ]
  },
  {
   "cell_type": "code",
   "execution_count": 20,
   "id": "5409ca90",
   "metadata": {},
   "outputs": [
    {
     "data": {
      "text/plain": [
       "(torch.Size([16, 32, 6]), torch.Size([16, 6, 128]))"
      ]
     },
     "execution_count": 20,
     "metadata": {},
     "output_type": "execute_result"
    }
   ],
   "source": [
    "attn.shape, v_h_im.shape"
   ]
  },
  {
   "cell_type": "code",
   "execution_count": 21,
   "id": "b94306ab",
   "metadata": {},
   "outputs": [],
   "source": [
    "result = torch.einsum('bpq, bqo->bpo', attn, v_h_im)"
   ]
  },
  {
   "cell_type": "code",
   "execution_count": 22,
   "id": "12c75fe6",
   "metadata": {},
   "outputs": [
    {
     "data": {
      "text/plain": [
       "torch.Size([16, 32, 128])"
      ]
     },
     "execution_count": 22,
     "metadata": {},
     "output_type": "execute_result"
    }
   ],
   "source": [
    "result.shape"
   ]
  },
  {
   "cell_type": "code",
   "execution_count": null,
   "id": "2ffd3785",
   "metadata": {},
   "outputs": [],
   "source": []
  }
 ],
 "metadata": {
  "kernelspec": {
   "display_name": "Python 3 (ipykernel)",
   "language": "python",
   "name": "python3"
  },
  "language_info": {
   "codemirror_mode": {
    "name": "ipython",
    "version": 3
   },
   "file_extension": ".py",
   "mimetype": "text/x-python",
   "name": "python",
   "nbconvert_exporter": "python",
   "pygments_lexer": "ipython3",
   "version": "3.10.13"
  }
 },
 "nbformat": 4,
 "nbformat_minor": 5
}
