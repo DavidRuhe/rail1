{
 "cells": [
  {
   "cell_type": "code",
   "execution_count": 184,
   "id": "6ef9db4e",
   "metadata": {},
   "outputs": [],
   "source": [
    "class Namespace:\n",
    "    def __init__(self, **kwargs):\n",
    "        for k, v in kwargs.items():\n",
    "            if isinstance(v, dict):\n",
    "                v = NameSpace(**v)\n",
    "            setattr(self, k, v)\n",
    "            \n",
    "    def __getitem__(self, k):\n",
    "        return getattr(self, k)\n",
    "    \n",
    "    def __setitem__(self, k, v):\n",
    "        if isinstance(v, dict):\n",
    "            v = NameSpace(**v)\n",
    "        setattr(self, k, v)\n",
    "        return self\n",
    "    \n",
    "    def __setattr__(self, k, v):\n",
    "        if isinstance(v, dict):\n",
    "            v = NameSpace(**v)\n",
    "        return super().__setattr__(k, v)\n",
    "        \n",
    "    def __repr__(self):\n",
    "        return str({k: getattr(self, k) for k in dir(self) if not k.startswith('__')})"
   ]
  },
  {
   "cell_type": "code",
   "execution_count": 185,
   "id": "04999831",
   "metadata": {},
   "outputs": [],
   "source": [
    "test = {'hi': 3}"
   ]
  },
  {
   "cell_type": "code",
   "execution_count": 186,
   "id": "da096ad7",
   "metadata": {},
   "outputs": [],
   "source": [
    "d = State(hi=3)"
   ]
  },
  {
   "cell_type": "code",
   "execution_count": 187,
   "id": "f9df269f",
   "metadata": {},
   "outputs": [],
   "source": [
    "d['x'] = {'hi': 8}"
   ]
  },
  {
   "cell_type": "code",
   "execution_count": 188,
   "id": "57bda7bd",
   "metadata": {},
   "outputs": [
    {
     "data": {
      "text/plain": [
       "{'hi': 8}"
      ]
     },
     "execution_count": 188,
     "metadata": {},
     "output_type": "execute_result"
    }
   ],
   "source": [
    "d['x']"
   ]
  },
  {
   "cell_type": "code",
   "execution_count": 189,
   "id": "62ad824c",
   "metadata": {},
   "outputs": [
    {
     "data": {
      "text/plain": [
       "{'hi': 8}"
      ]
     },
     "execution_count": 189,
     "metadata": {},
     "output_type": "execute_result"
    }
   ],
   "source": [
    "d.x"
   ]
  },
  {
   "cell_type": "code",
   "execution_count": 190,
   "id": "c803e1d8",
   "metadata": {},
   "outputs": [],
   "source": [
    "d.joe = 'hi'"
   ]
  },
  {
   "cell_type": "code",
   "execution_count": 191,
   "id": "e37c3dc7",
   "metadata": {},
   "outputs": [
    {
     "data": {
      "text/plain": [
       "'hi'"
      ]
     },
     "execution_count": 191,
     "metadata": {},
     "output_type": "execute_result"
    }
   ],
   "source": [
    "d.joe"
   ]
  },
  {
   "cell_type": "code",
   "execution_count": 192,
   "id": "90a230a9",
   "metadata": {},
   "outputs": [
    {
     "data": {
      "text/plain": [
       "8"
      ]
     },
     "execution_count": 192,
     "metadata": {},
     "output_type": "execute_result"
    }
   ],
   "source": [
    "d.x.hi"
   ]
  },
  {
   "cell_type": "code",
   "execution_count": 193,
   "id": "b2b68d32",
   "metadata": {},
   "outputs": [],
   "source": [
    "d.x.joe = 'hi'"
   ]
  },
  {
   "cell_type": "code",
   "execution_count": 194,
   "id": "82b5fc66",
   "metadata": {},
   "outputs": [],
   "source": [
    "d.x.test = {'hi': 3}"
   ]
  },
  {
   "cell_type": "code",
   "execution_count": 195,
   "id": "d342a373",
   "metadata": {},
   "outputs": [
    {
     "data": {
      "text/plain": [
       "{'hi': 3}"
      ]
     },
     "execution_count": 195,
     "metadata": {},
     "output_type": "execute_result"
    }
   ],
   "source": [
    "d.x.test\n"
   ]
  },
  {
   "cell_type": "code",
   "execution_count": 196,
   "id": "41598a42",
   "metadata": {},
   "outputs": [
    {
     "data": {
      "text/plain": [
       "3"
      ]
     },
     "execution_count": 196,
     "metadata": {},
     "output_type": "execute_result"
    }
   ],
   "source": [
    "d.x.test.hi"
   ]
  },
  {
   "cell_type": "code",
   "execution_count": null,
   "id": "817f220b",
   "metadata": {},
   "outputs": [],
   "source": []
  }
 ],
 "metadata": {
  "kernelspec": {
   "display_name": "Python 3 (ipykernel)",
   "language": "python",
   "name": "python3"
  },
  "language_info": {
   "codemirror_mode": {
    "name": "ipython",
    "version": 3
   },
   "file_extension": ".py",
   "mimetype": "text/x-python",
   "name": "python",
   "nbconvert_exporter": "python",
   "pygments_lexer": "ipython3",
   "version": "3.10.13"
  }
 },
 "nbformat": 4,
 "nbformat_minor": 5
}
