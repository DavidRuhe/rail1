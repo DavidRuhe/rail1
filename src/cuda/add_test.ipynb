{
 "cells": [
  {
   "cell_type": "code",
   "execution_count": 1,
   "metadata": {},
   "outputs": [],
   "source": [
    "import torch\n",
    "from torch import nn\n",
    "import add_cuda"
   ]
  },
  {
   "cell_type": "code",
   "execution_count": 3,
   "metadata": {},
   "outputs": [],
   "source": [
    "class AddFunction(torch.autograd.Function):\n",
    "    @staticmethod\n",
    "    def forward(ctx, input_left, input_right):\n",
    "        outputs = add_cuda.forward(input_left, input_right)\n",
    "        new_h = outputs[0]\n",
    "        # variables = outputs[1:] + [weights]\n",
    "        variables = [input_left, input_right]\n",
    "        ctx.save_for_backward(*variables)\n",
    "        return new_h\n",
    "\n",
    "    @staticmethod\n",
    "    def backward(ctx, grad_h):\n",
    "        grad_input_left, grad_input_right = add_cuda.backward(\n",
    "            grad_h.contiguous(), *ctx.saved_tensors\n",
    "        )\n",
    "        return grad_input_left, grad_input_right\n",
    "\n",
    "\n",
    "class Add(torch.nn.Module):\n",
    "    def __init__(self, size):\n",
    "        super().__init__()\n",
    "        # self.input_features = input_features\n",
    "        # self.state_size = state_size\n",
    "        # self.weights = torch.nn.Parameter(\n",
    "        #     torch.empty(3 * state_size, input_features + state_size))\n",
    "        # self.bias = torch.nn.Parameter(torch.empty(3 * state_size))\n",
    "        # self.reset_parameters()\n",
    "        self.input_left = nn.Parameter(torch.arange(size).float())\n",
    "        self.input_right = nn.Parameter(torch.arange(size).float())\n",
    "\n",
    "    def forward(self):\n",
    "        return AddFunction.apply(self.input_left, self.input_right)\n",
    "    \n",
    "    # def forward(self):\n",
    "    #     return self.input_left + self.input_right"
   ]
  },
  {
   "cell_type": "code",
   "execution_count": 4,
   "metadata": {},
   "outputs": [],
   "source": [
    "module = Add(128).cuda()"
   ]
  },
  {
   "cell_type": "code",
   "execution_count": 5,
   "metadata": {},
   "outputs": [],
   "source": [
    "module().sum().backward()\n"
   ]
  },
  {
   "cell_type": "code",
   "execution_count": 7,
   "metadata": {},
   "outputs": [
    {
     "data": {
      "text/plain": [
       "tensor([1., 1., 1., 1., 1., 1., 1., 1., 1., 1., 1., 1., 1., 1., 1., 1., 1., 1.,\n",
       "        1., 1., 1., 1., 1., 1., 1., 1., 1., 1., 1., 1., 1., 1., 1., 1., 1., 1.,\n",
       "        1., 1., 1., 1., 1., 1., 1., 1., 1., 1., 1., 1., 1., 1., 1., 1., 1., 1.,\n",
       "        1., 1., 1., 1., 1., 1., 1., 1., 1., 1., 1., 1., 1., 1., 1., 1., 1., 1.,\n",
       "        1., 1., 1., 1., 1., 1., 1., 1., 1., 1., 1., 1., 1., 1., 1., 1., 1., 1.,\n",
       "        1., 1., 1., 1., 1., 1., 1., 1., 1., 1., 1., 1., 1., 1., 1., 1., 1., 1.,\n",
       "        1., 1., 1., 1., 1., 1., 1., 1., 1., 1., 1., 1., 1., 1., 1., 1., 1., 1.,\n",
       "        1., 1.], device='cuda:0')"
      ]
     },
     "execution_count": 7,
     "metadata": {},
     "output_type": "execute_result"
    }
   ],
   "source": [
    "module.input_right.grad"
   ]
  },
  {
   "cell_type": "code",
   "execution_count": null,
   "metadata": {},
   "outputs": [],
   "source": []
  }
 ],
 "metadata": {
  "kernelspec": {
   "display_name": ".venv",
   "language": "python",
   "name": "python3"
  },
  "language_info": {
   "codemirror_mode": {
    "name": "ipython",
    "version": 3
   },
   "file_extension": ".py",
   "mimetype": "text/x-python",
   "name": "python",
   "nbconvert_exporter": "python",
   "pygments_lexer": "ipython3",
   "version": "3.10.13"
  }
 },
 "nbformat": 4,
 "nbformat_minor": 2
}
